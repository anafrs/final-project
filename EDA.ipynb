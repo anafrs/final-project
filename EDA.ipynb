{
 "cells": [
  {
   "cell_type": "markdown",
   "metadata": {},
   "source": [
    "## cleaning and exploring the data\n"
   ]
  },
  {
   "cell_type": "code",
   "execution_count": 1,
   "metadata": {},
   "outputs": [],
   "source": [
    "import pandas as pd\n",
    "import re"
   ]
  },
  {
   "cell_type": "code",
   "execution_count": 2,
   "metadata": {},
   "outputs": [],
   "source": [
    "pd.set_option('display.max_colwidth', -1)\n",
    "#pd.options.display.max_rows\n",
    "pd.set_option('display.max_rows', None)"
   ]
  },
  {
   "cell_type": "code",
   "execution_count": 3,
   "metadata": {},
   "outputs": [],
   "source": [
    "df1 = pd.read_csv(\"healthyliving.csv\")\n",
    "df2 = pd.read_csv(\"healthylifestyle.csv\")\n"
   ]
  },
  {
   "cell_type": "code",
   "execution_count": 4,
   "metadata": {},
   "outputs": [
    {
     "data": {
      "text/plain": [
       "(5000, 8)"
      ]
     },
     "execution_count": 4,
     "metadata": {},
     "output_type": "execute_result"
    }
   ],
   "source": [
    "df1.shape"
   ]
  },
  {
   "cell_type": "code",
   "execution_count": 5,
   "metadata": {},
   "outputs": [
    {
     "data": {
      "text/plain": [
       "(8134, 8)"
      ]
     },
     "execution_count": 5,
     "metadata": {},
     "output_type": "execute_result"
    }
   ],
   "source": [
    "df2.shape"
   ]
  },
  {
   "cell_type": "code",
   "execution_count": 6,
   "metadata": {},
   "outputs": [
    {
     "data": {
      "text/html": [
       "<div>\n",
       "<style scoped>\n",
       "    .dataframe tbody tr th:only-of-type {\n",
       "        vertical-align: middle;\n",
       "    }\n",
       "\n",
       "    .dataframe tbody tr th {\n",
       "        vertical-align: top;\n",
       "    }\n",
       "\n",
       "    .dataframe thead th {\n",
       "        text-align: right;\n",
       "    }\n",
       "</style>\n",
       "<table border=\"1\" class=\"dataframe\">\n",
       "  <thead>\n",
       "    <tr style=\"text-align: right;\">\n",
       "      <th></th>\n",
       "      <th>alt</th>\n",
       "      <th>firstComment</th>\n",
       "      <th>imageUrl</th>\n",
       "      <th>likesCount</th>\n",
       "      <th>locationName</th>\n",
       "      <th>ownerUsername</th>\n",
       "      <th>timestamp</th>\n",
       "      <th>url</th>\n",
       "    </tr>\n",
       "  </thead>\n",
       "  <tbody>\n",
       "    <tr>\n",
       "      <th>8129</th>\n",
       "      <td>Image may contain: one or more people and outdoor, possible text that says 'Leg pain from fibroids: how to get relief'</td>\n",
       "      <td>🔵 Leg Pain From Fibroids: How to Get Relief\\n⠀\\nThe leg pain that is associated with fibroids is typically due to subserosal (or large intramural) fibroids that are located in the back (posterior) aspect of the uterus. These hard and firm tumors compress the pelvic nerves which may include the sciatic nerve resulting in sciatica pain that is felt in the leg.\\n⠀\\nIf the symptoms correlate with the location and size of the fibroids, then treating the fibroids should relieve these symptoms. Uterine fibroid embolization (UFE) is an outstanding treatment for getting the relief of fibroid-related symptoms.\\n⠀\\n🔹If you suspect that you may have uterine fibroids and are not receiving all the answers from your doctor, ask Dr. John Lipman of the Atlanta Fibroid Center for a second opinion.  Call to make an appointment: 770-727-2631\\n⠀\\n#DontLoseUrU🍀</td>\n",
       "      <td>https://scontent-iad3-1.cdninstagram.com/v/t51.2885-15/e35/70254793_417794689096014_2091543836466137290_n.jpg?_nc_ht=scontent-iad3-1.cdninstagram.com&amp;_nc_cat=106&amp;_nc_ohc=JuOoyqhkbG4AX9Yqrdt&amp;oh=137d94c64ff999db6ea19546649e4e60&amp;oe=5EA3B751</td>\n",
       "      <td>12</td>\n",
       "      <td>NaN</td>\n",
       "      <td>NaN</td>\n",
       "      <td>2019-11-18T11:25:07.000Z</td>\n",
       "      <td>https://www.instagram.com/p/B5AUh_0hBGn</td>\n",
       "    </tr>\n",
       "    <tr>\n",
       "      <th>8130</th>\n",
       "      <td>Image may contain: one or more people, possible text that says 'What are the risks of UFE?'</td>\n",
       "      <td>🔵 From a risk profile, UFE is safer than the surgical options for fibroids treatment. The main risks of the UFE procedure are as follows:\\n⠀\\n➡️ 1. Menopause: Roughly 2% of women will go into menopause after UFE. The large majority of these women are over 45 years of age. A much smaller percentage of women enter menopause after UFE that are between 40 and 45 years of age. No one under 40 years of age, in our experience, has experienced menopause after UFE treatment.\\n⠀\\n➡️ 2. Fibroid slough: Roughly 5% of patients will slough fibroid tissue with menses temporarily after UFE. The material is from a fibroid that is near the lining and falls into the cavity and passed in pieces after the UFE. This is not concerning, except that it is important to tell patients about this so that they are not alarmed if they see this after UFE. On very rare occasions (~2-3 per 1,000 patients), the material is in the cavity, but a woman cannot pass it. Symptoms of sudden, sharp pain, fever, and a foul malodorous discharge alert the women of this occurrence and the Interventional Radiologist should be immediately notified. The patient is placed on antibiotic therapy and watched closely for ~24 hours. If she passes the material, no further steps are taken. If she cannot pass the material, an elective outpatient D&amp;C-like procedure with her gynecologist may be necessary to deliver this material. On rare occasions, surgical removal of the offending fibroid or a hysterectomy may be needed.\\n⠀\\n➡️ 3. Allergy to the contrast: Rarely, patients will be allergic to the x-ray contrast. If this is known from a prior exposure to contrast, the patient will be placed on a steroid regimen beginning the day before the procedure to block this reaction. In the very rare event that a reaction occurs, patients are given medicine to reverse and stop it.\\n⠀\\n➡️ 4. Undetected cancer: Rarely, cancer can be present in the uterus and is not detected by any test or imaging. (Approximately 1 in 2,000 cases).\\n⠀\\n⚫  If you would like a second opinion regarding your fibroids before deciding on surgery, make an appointment with Dr. John Lipman by calling the Atlanta Fibroid Center at 770-953-2600.\\n⠀\\n#DontLoseUrU🍀</td>\n",
       "      <td>https://scontent-iad3-1.cdninstagram.com/v/t51.2885-15/e35/75266918_2722661861131741_6907967573183167977_n.jpg?_nc_ht=scontent-iad3-1.cdninstagram.com&amp;_nc_cat=101&amp;_nc_ohc=ShPW2fg3FPEAX8Mk2PJ&amp;oh=8b46d3d40ed30b09276adab0698d639e&amp;oe=5E9E3B21</td>\n",
       "      <td>6</td>\n",
       "      <td>NaN</td>\n",
       "      <td>NaN</td>\n",
       "      <td>2019-11-17T11:58:03.000Z</td>\n",
       "      <td>https://www.instagram.com/p/B49zgZGB7LK</td>\n",
       "    </tr>\n",
       "    <tr>\n",
       "      <th>8131</th>\n",
       "      <td>Image may contain: one or more people and people standing</td>\n",
       "      <td>Today there are several ways to treat fibroids that allow a woman to keep her uterus.\\n⠀\\n🔸One of them is myomectomy, a surgery to remove a percentage of the fibroid tumors. However, after this procedure, there are typically a number of living fibroids still inside the uterus. These fibroids will ultimately grow, and therefore, within 5 years over half of the women treated with myomectomy will need another procedure (over 1/3 of them within 3 yrs.). Also, every woman that intends to undergo a myomectomy has to sign a waiver/release stating she’s aware that she may wake up without her uterus.\\n⠀\\n🔹The safer, less invasive, and more effective fibroid treatment option is uterine fibroid embolization (UFE). During this 30-40 minute nonsurgical procedure, small particles are introduced into the blood vessels that supply all of the fibroid tumors. Without a blood supply, all of the fibroids will start to die off.\\n⠀\\nThe death of all of the fibroids, causes them to soften and shrink, and as this occurs, the woman’s symptoms start to disappear. The death of all of the fibroids also means that for the vast majority of women that undergo UFE, it is the only procedure they will ever need (i.e. “one and done” unlike surgical myomectomy). This option is ideal for women that want to avoid the risks and long recovery of surgery and even a consideration for women who want to maintain their fertility.\\n⠀\\n🔵For more information on fibroids and UFE, make an appointment with Dr. John Lipman of Atlanta Fibroid Center by calling 770-727-2631\\n⠀\\n#DontLoseUrU🌸</td>\n",
       "      <td>https://scontent-iad3-1.cdninstagram.com/v/t51.2885-15/e35/72210513_216668502664832_6511304034180734320_n.jpg?_nc_ht=scontent-iad3-1.cdninstagram.com&amp;_nc_cat=108&amp;_nc_ohc=TwNJK6OnHBUAX8w2ilQ&amp;oh=4b012f47ca769083f44f58bf08ca5d43&amp;oe=5EA2E4E5</td>\n",
       "      <td>34</td>\n",
       "      <td>NaN</td>\n",
       "      <td>NaN</td>\n",
       "      <td>2019-11-16T11:52:19.000Z</td>\n",
       "      <td>https://www.instagram.com/p/B47ODenhCZh</td>\n",
       "    </tr>\n",
       "    <tr>\n",
       "      <th>8132</th>\n",
       "      <td>Image may contain: one or more people, eyeglasses, selfie and closeup</td>\n",
       "      <td>On the way to the gym right now. \\nMy leg with my prothese hurts a little bit but i hope it will be ok. 😆 Probably the price for going workout at the gym rather often. 😅\\nAnyway whats needs to be done needs to be done. No pain no gain right? 😆😎 Atleast im feeling like im getting in better shape and lost some weight. 😊\\n.\\n.\\n.\\n.\\n.\\n.\\n.\\n.\\n.\\n.\\n.\\n.\\n.\\n.\\n.\\n.\\n.\\n.\\n.\\n.\\n.\\n.\\n\\n#germanylife #germanbloggers \\n#ドイツ🇩🇪 #germangirl🇩🇪 #germaninsta  #germany_insta #happiness❤  #healthylifestylechange #stayhealthyandfit #healthylivingjourney #blogger_deutschland  #healthylifestyle💚 #healthylifestyleforever  #healthylifestyleeveryday #fit7eleven #workouttime💪 #cardioworkouts #fitnesscardio #alwaysgiveyourbest #saturdayworkouts #GACKT #ganbatte #kiaii #workoutwarrior #myhealthylifestyle #運動時間 #いい結果になる #鍛え  #トレーニングジム\\n@GACKT</td>\n",
       "      <td>https://scontent-iad3-1.cdninstagram.com/v/t51.2885-15/e35/75265159_149459046398873_4352510527348024711_n.jpg?_nc_ht=scontent-iad3-1.cdninstagram.com&amp;_nc_cat=105&amp;_nc_ohc=GNtPds9S4jQAX8SU1SY&amp;oh=b5b8898e044696f893dfcdea6546137c&amp;oe=5E94C2C9</td>\n",
       "      <td>58</td>\n",
       "      <td>NaN</td>\n",
       "      <td>NaN</td>\n",
       "      <td>2019-11-16T08:15:18.000Z</td>\n",
       "      <td>https://www.instagram.com/p/B461N8wCkhk</td>\n",
       "    </tr>\n",
       "    <tr>\n",
       "      <th>8133</th>\n",
       "      <td>NaN</td>\n",
       "      <td>Patient: \"Don't Lose Your U, Because Your Uterus IS You\"🌿\\n⠀\\n🔈Watch more patients' stories on our YouTube channel ➡️ \"Atlanta Fibroid Center\"\\n⠀\\n#DontLoseUrU</td>\n",
       "      <td>https://scontent-iad3-1.cdninstagram.com/v/t51.2885-15/e35/74917345_789145141539303_3911188560460631106_n.jpg?_nc_ht=scontent-iad3-1.cdninstagram.com&amp;_nc_cat=103&amp;_nc_ohc=Kba_NyFBTS4AX9sk_8h&amp;oh=484f49a05479861f0d08bbecbc0e8041&amp;oe=5E6C7E6B</td>\n",
       "      <td>7</td>\n",
       "      <td>NaN</td>\n",
       "      <td>NaN</td>\n",
       "      <td>2019-11-15T22:25:20.000Z</td>\n",
       "      <td>https://www.instagram.com/p/B45xqo0BPFJ</td>\n",
       "    </tr>\n",
       "  </tbody>\n",
       "</table>\n",
       "</div>"
      ],
      "text/plain": [
       "                                                                                                                         alt  \\\n",
       "8129  Image may contain: one or more people and outdoor, possible text that says 'Leg pain from fibroids: how to get relief'   \n",
       "8130  Image may contain: one or more people, possible text that says 'What are the risks of UFE?'                              \n",
       "8131  Image may contain: one or more people and people standing                                                                \n",
       "8132  Image may contain: one or more people, eyeglasses, selfie and closeup                                                    \n",
       "8133  NaN                                                                                                                      \n",
       "\n",
       "                                                                                                                                                                                                                                                                                                                                                                                                                                                                                                                                                                                                                                                                                                                                                                                                                                                                                                                                                                                                                                                                                                                                                                                                                                                                                                                                                                                                                                                                                                                                                                                                                                                                                                                                                                                                                                                                                                                                                                                                                                                                                                                                                                                                                                                                                 firstComment  \\\n",
       "8129  🔵 Leg Pain From Fibroids: How to Get Relief\\n⠀\\nThe leg pain that is associated with fibroids is typically due to subserosal (or large intramural) fibroids that are located in the back (posterior) aspect of the uterus. These hard and firm tumors compress the pelvic nerves which may include the sciatic nerve resulting in sciatica pain that is felt in the leg.\\n⠀\\nIf the symptoms correlate with the location and size of the fibroids, then treating the fibroids should relieve these symptoms. Uterine fibroid embolization (UFE) is an outstanding treatment for getting the relief of fibroid-related symptoms.\\n⠀\\n🔹If you suspect that you may have uterine fibroids and are not receiving all the answers from your doctor, ask Dr. John Lipman of the Atlanta Fibroid Center for a second opinion.  Call to make an appointment: 770-727-2631\\n⠀\\n#DontLoseUrU🍀                                                                                                                                                                                                                                                                                                                                                                                                                                                                                                                                                                                                                                                                                                                                                                                                                                                                                                                                                                                                                                                                                                                                                                                                                                                                                                                                                                                                       \n",
       "8130  🔵 From a risk profile, UFE is safer than the surgical options for fibroids treatment. The main risks of the UFE procedure are as follows:\\n⠀\\n➡️ 1. Menopause: Roughly 2% of women will go into menopause after UFE. The large majority of these women are over 45 years of age. A much smaller percentage of women enter menopause after UFE that are between 40 and 45 years of age. No one under 40 years of age, in our experience, has experienced menopause after UFE treatment.\\n⠀\\n➡️ 2. Fibroid slough: Roughly 5% of patients will slough fibroid tissue with menses temporarily after UFE. The material is from a fibroid that is near the lining and falls into the cavity and passed in pieces after the UFE. This is not concerning, except that it is important to tell patients about this so that they are not alarmed if they see this after UFE. On very rare occasions (~2-3 per 1,000 patients), the material is in the cavity, but a woman cannot pass it. Symptoms of sudden, sharp pain, fever, and a foul malodorous discharge alert the women of this occurrence and the Interventional Radiologist should be immediately notified. The patient is placed on antibiotic therapy and watched closely for ~24 hours. If she passes the material, no further steps are taken. If she cannot pass the material, an elective outpatient D&C-like procedure with her gynecologist may be necessary to deliver this material. On rare occasions, surgical removal of the offending fibroid or a hysterectomy may be needed.\\n⠀\\n➡️ 3. Allergy to the contrast: Rarely, patients will be allergic to the x-ray contrast. If this is known from a prior exposure to contrast, the patient will be placed on a steroid regimen beginning the day before the procedure to block this reaction. In the very rare event that a reaction occurs, patients are given medicine to reverse and stop it.\\n⠀\\n➡️ 4. Undetected cancer: Rarely, cancer can be present in the uterus and is not detected by any test or imaging. (Approximately 1 in 2,000 cases).\\n⠀\\n⚫  If you would like a second opinion regarding your fibroids before deciding on surgery, make an appointment with Dr. John Lipman by calling the Atlanta Fibroid Center at 770-953-2600.\\n⠀\\n#DontLoseUrU🍀   \n",
       "8131  Today there are several ways to treat fibroids that allow a woman to keep her uterus.\\n⠀\\n🔸One of them is myomectomy, a surgery to remove a percentage of the fibroid tumors. However, after this procedure, there are typically a number of living fibroids still inside the uterus. These fibroids will ultimately grow, and therefore, within 5 years over half of the women treated with myomectomy will need another procedure (over 1/3 of them within 3 yrs.). Also, every woman that intends to undergo a myomectomy has to sign a waiver/release stating she’s aware that she may wake up without her uterus.\\n⠀\\n🔹The safer, less invasive, and more effective fibroid treatment option is uterine fibroid embolization (UFE). During this 30-40 minute nonsurgical procedure, small particles are introduced into the blood vessels that supply all of the fibroid tumors. Without a blood supply, all of the fibroids will start to die off.\\n⠀\\nThe death of all of the fibroids, causes them to soften and shrink, and as this occurs, the woman’s symptoms start to disappear. The death of all of the fibroids also means that for the vast majority of women that undergo UFE, it is the only procedure they will ever need (i.e. “one and done” unlike surgical myomectomy). This option is ideal for women that want to avoid the risks and long recovery of surgery and even a consideration for women who want to maintain their fertility.\\n⠀\\n🔵For more information on fibroids and UFE, make an appointment with Dr. John Lipman of Atlanta Fibroid Center by calling 770-727-2631\\n⠀\\n#DontLoseUrU🌸                                                                                                                                                                                                                                                                                                                                                                                                                                                                                                                                                                                                                                                              \n",
       "8132  On the way to the gym right now. \\nMy leg with my prothese hurts a little bit but i hope it will be ok. 😆 Probably the price for going workout at the gym rather often. 😅\\nAnyway whats needs to be done needs to be done. No pain no gain right? 😆😎 Atleast im feeling like im getting in better shape and lost some weight. 😊\\n.\\n.\\n.\\n.\\n.\\n.\\n.\\n.\\n.\\n.\\n.\\n.\\n.\\n.\\n.\\n.\\n.\\n.\\n.\\n.\\n.\\n.\\n\\n#germanylife #germanbloggers \\n#ドイツ🇩🇪 #germangirl🇩🇪 #germaninsta  #germany_insta #happiness❤  #healthylifestylechange #stayhealthyandfit #healthylivingjourney #blogger_deutschland  #healthylifestyle💚 #healthylifestyleforever  #healthylifestyleeveryday #fit7eleven #workouttime💪 #cardioworkouts #fitnesscardio #alwaysgiveyourbest #saturdayworkouts #GACKT #ganbatte #kiaii #workoutwarrior #myhealthylifestyle #運動時間 #いい結果になる #鍛え  #トレーニングジム\\n@GACKT                                                                                                                                                                                                                                                                                                                                                                                                                                                                                                                                                                                                                                                                                                                                                                                                                                                                                                                                                                                                                                                                                                                                                                                                                                                                                                                                                                                                                         \n",
       "8133  Patient: \"Don't Lose Your U, Because Your Uterus IS You\"🌿\\n⠀\\n🔈Watch more patients' stories on our YouTube channel ➡️ \"Atlanta Fibroid Center\"\\n⠀\\n#DontLoseUrU                                                                                                                                                                                                                                                                                                                                                                                                                                                                                                                                                                                                                                                                                                                                                                                                                                                                                                                                                                                                                                                                                                                                                                                                                                                                                                                                                                                                                                                                                                                                                                                                                                                                                                                                                                                                                                                                                                                                                                                                                                                                                                                           \n",
       "\n",
       "                                                                                                                                                                                                                                            imageUrl  \\\n",
       "8129  https://scontent-iad3-1.cdninstagram.com/v/t51.2885-15/e35/70254793_417794689096014_2091543836466137290_n.jpg?_nc_ht=scontent-iad3-1.cdninstagram.com&_nc_cat=106&_nc_ohc=JuOoyqhkbG4AX9Yqrdt&oh=137d94c64ff999db6ea19546649e4e60&oe=5EA3B751    \n",
       "8130  https://scontent-iad3-1.cdninstagram.com/v/t51.2885-15/e35/75266918_2722661861131741_6907967573183167977_n.jpg?_nc_ht=scontent-iad3-1.cdninstagram.com&_nc_cat=101&_nc_ohc=ShPW2fg3FPEAX8Mk2PJ&oh=8b46d3d40ed30b09276adab0698d639e&oe=5E9E3B21   \n",
       "8131  https://scontent-iad3-1.cdninstagram.com/v/t51.2885-15/e35/72210513_216668502664832_6511304034180734320_n.jpg?_nc_ht=scontent-iad3-1.cdninstagram.com&_nc_cat=108&_nc_ohc=TwNJK6OnHBUAX8w2ilQ&oh=4b012f47ca769083f44f58bf08ca5d43&oe=5EA2E4E5    \n",
       "8132  https://scontent-iad3-1.cdninstagram.com/v/t51.2885-15/e35/75265159_149459046398873_4352510527348024711_n.jpg?_nc_ht=scontent-iad3-1.cdninstagram.com&_nc_cat=105&_nc_ohc=GNtPds9S4jQAX8SU1SY&oh=b5b8898e044696f893dfcdea6546137c&oe=5E94C2C9    \n",
       "8133  https://scontent-iad3-1.cdninstagram.com/v/t51.2885-15/e35/74917345_789145141539303_3911188560460631106_n.jpg?_nc_ht=scontent-iad3-1.cdninstagram.com&_nc_cat=103&_nc_ohc=Kba_NyFBTS4AX9sk_8h&oh=484f49a05479861f0d08bbecbc0e8041&oe=5E6C7E6B    \n",
       "\n",
       "      likesCount  locationName  ownerUsername                 timestamp  \\\n",
       "8129  12         NaN           NaN             2019-11-18T11:25:07.000Z   \n",
       "8130  6          NaN           NaN             2019-11-17T11:58:03.000Z   \n",
       "8131  34         NaN           NaN             2019-11-16T11:52:19.000Z   \n",
       "8132  58         NaN           NaN             2019-11-16T08:15:18.000Z   \n",
       "8133  7          NaN           NaN             2019-11-15T22:25:20.000Z   \n",
       "\n",
       "                                          url  \n",
       "8129  https://www.instagram.com/p/B5AUh_0hBGn  \n",
       "8130  https://www.instagram.com/p/B49zgZGB7LK  \n",
       "8131  https://www.instagram.com/p/B47ODenhCZh  \n",
       "8132  https://www.instagram.com/p/B461N8wCkhk  \n",
       "8133  https://www.instagram.com/p/B45xqo0BPFJ  "
      ]
     },
     "execution_count": 6,
     "metadata": {},
     "output_type": "execute_result"
    }
   ],
   "source": [
    "df2.tail()"
   ]
  },
  {
   "cell_type": "code",
   "execution_count": 7,
   "metadata": {
    "scrolled": true
   },
   "outputs": [
    {
     "data": {
      "text/plain": [
       "0    NaN                                                          \n",
       "1    Image may contain: shoes                                     \n",
       "2    Image may contain: possible text that says 'WORLD KIDNEY DAY'\n",
       "3    Image may contain: sky, cloud and outdoor                    \n",
       "4    Image may contain: food                                      \n",
       "Name: alt, dtype: object"
      ]
     },
     "execution_count": 7,
     "metadata": {},
     "output_type": "execute_result"
    }
   ],
   "source": [
    "df2.alt.head()"
   ]
  },
  {
   "cell_type": "code",
   "execution_count": 8,
   "metadata": {},
   "outputs": [
    {
     "data": {
      "text/plain": [
       "alt              316 \n",
       "firstComment     18  \n",
       "imageUrl         0   \n",
       "likesCount       0   \n",
       "locationName     5000\n",
       "ownerUsername    5000\n",
       "timestamp        0   \n",
       "url              0   \n",
       "dtype: int64"
      ]
     },
     "execution_count": 8,
     "metadata": {},
     "output_type": "execute_result"
    }
   ],
   "source": [
    "## checking null values\n",
    "df1.isnull().sum()"
   ]
  },
  {
   "cell_type": "code",
   "execution_count": 9,
   "metadata": {},
   "outputs": [
    {
     "data": {
      "text/plain": [
       "alt              780 \n",
       "firstComment     84  \n",
       "imageUrl         0   \n",
       "likesCount       0   \n",
       "locationName     8134\n",
       "ownerUsername    8134\n",
       "timestamp        0   \n",
       "url              0   \n",
       "dtype: int64"
      ]
     },
     "execution_count": 9,
     "metadata": {},
     "output_type": "execute_result"
    }
   ],
   "source": [
    "df2.isnull().sum()"
   ]
  },
  {
   "cell_type": "code",
   "execution_count": 10,
   "metadata": {},
   "outputs": [],
   "source": [
    "### dropping some columns\n",
    "df1.drop(columns = [\"locationName\", \"ownerUsername\",\"imageUrl\", \"url\"],axis=1, inplace = True)\n",
    "df2.drop(columns = [\"locationName\", \"ownerUsername\", \"imageUrl\", \"url\"],axis=1, inplace = True)\n"
   ]
  },
  {
   "cell_type": "code",
   "execution_count": 11,
   "metadata": {},
   "outputs": [],
   "source": [
    "# dropping rows where "
   ]
  },
  {
   "cell_type": "code",
   "execution_count": 12,
   "metadata": {},
   "outputs": [],
   "source": [
    "#concatenating the datasets\n",
    "instagram = pd.concat([df1,df2],axis = 0)"
   ]
  },
  {
   "cell_type": "code",
   "execution_count": 13,
   "metadata": {},
   "outputs": [
    {
     "data": {
      "text/plain": [
       "alt             object\n",
       "firstComment    object\n",
       "likesCount      int64 \n",
       "timestamp       object\n",
       "dtype: object"
      ]
     },
     "execution_count": 13,
     "metadata": {},
     "output_type": "execute_result"
    }
   ],
   "source": [
    "# types\n",
    "instagram.dtypes"
   ]
  },
  {
   "cell_type": "code",
   "execution_count": 14,
   "metadata": {},
   "outputs": [
    {
     "data": {
      "text/html": [
       "<div>\n",
       "<style scoped>\n",
       "    .dataframe tbody tr th:only-of-type {\n",
       "        vertical-align: middle;\n",
       "    }\n",
       "\n",
       "    .dataframe tbody tr th {\n",
       "        vertical-align: top;\n",
       "    }\n",
       "\n",
       "    .dataframe thead th {\n",
       "        text-align: right;\n",
       "    }\n",
       "</style>\n",
       "<table border=\"1\" class=\"dataframe\">\n",
       "  <thead>\n",
       "    <tr style=\"text-align: right;\">\n",
       "      <th></th>\n",
       "      <th>alt</th>\n",
       "      <th>firstComment</th>\n",
       "      <th>likesCount</th>\n",
       "      <th>timestamp</th>\n",
       "    </tr>\n",
       "  </thead>\n",
       "  <tbody>\n",
       "    <tr>\n",
       "      <th>0</th>\n",
       "      <td>Image may contain: one or more people and text</td>\n",
       "      <td>The best offense is a good defense so here's some healthy tips on how to boast your immunity as work through this Covid-19 scare.\\n.\\nDon't be scared, just take care.</td>\n",
       "      <td>1</td>\n",
       "      <td>2020-03-12T14:32:48.000Z</td>\n",
       "    </tr>\n",
       "    <tr>\n",
       "      <th>1</th>\n",
       "      <td>Sacred geometry flower of life and goddess artwork</td>\n",
       "      <td>Nature reflects back to us our own imbalance. When the health of the earth and ecosystems are compromised, our own health is also compromised. We are a part of Nature, and her sickness becomes our sickness ~ her health, our health 🌏 Art: @mimbirose #sacredgeometryart #seedoflife #floweroflife #cyclesofnature</td>\n",
       "      <td>2</td>\n",
       "      <td>2020-03-12T14:22:34.000Z</td>\n",
       "    </tr>\n",
       "    <tr>\n",
       "      <th>2</th>\n",
       "      <td>Image may contain: 1 person</td>\n",
       "      <td>Concerning the current outbreak of Covid-19 (Coronavirus), which has now been declared as a pandemic, we must take precautions and safety measures to avoid its spread. Even a simple handshake can cause the transfer of harmful disease-causing bacteria.\\n\\nA safe way to greet others is through Namaste, a customary and respectful Indian greeting, which is also a part of Atmantan's culture 🙏🏻 #Atmantan #BeTransformed #AtmantanWellnessResort</td>\n",
       "      <td>24</td>\n",
       "      <td>2020-03-12T14:17:54.000Z</td>\n",
       "    </tr>\n",
       "    <tr>\n",
       "      <th>3</th>\n",
       "      <td>Image may contain: food</td>\n",
       "      <td>Lunch out today with my daughter😀 jacket potato with tuna and cheese HEA and speedy salad 🥒🍅🥔#slimmingworld#slimmingworldblog#weightlossjourney#weighlossjourney2020#slimmingworldblogger#healthylifestyle#healthyeating#healthyliving#diet#sw#healthylivingjourney</td>\n",
       "      <td>3</td>\n",
       "      <td>2020-03-12T14:17:02.000Z</td>\n",
       "    </tr>\n",
       "    <tr>\n",
       "      <th>4</th>\n",
       "      <td>Image may contain: sky, mountain, outdoor, water and nature</td>\n",
       "      <td>Whenever you are faced with fear, you always have a choice.\\nFear is something we all have faced and will face it again. It’s inevitable and something needs to change.\\n\\nDon't let fear win and over power you. Believe that you are strong and capable. \"Forget Everything and Run,’ or, ‘Face Everything and Rise.\" The choice is yours.\\n\\n#choiceisyours #choiceschoices #criticschoice #hardchoices #mindsetchange #mindsetofachampion #selfreflections #selfawareness #mortgageloanofficer #mortgagebanker #mortgageagent #teacherofinstagram #teacherblogger #nurseofinstagram #fitnesshelp #healthylivingjourney #fitmomsclub #getfitforlife #fitmominspire #timefreedom #workfromhomedad #selfemployedlife #goalslayer #workforwhatyouwant #helpinghands #givingback #careforothers #makeadifference #makeanimpact #peoplematter</td>\n",
       "      <td>1</td>\n",
       "      <td>2020-03-12T14:01:39.000Z</td>\n",
       "    </tr>\n",
       "  </tbody>\n",
       "</table>\n",
       "</div>"
      ],
      "text/plain": [
       "                                                           alt  \\\n",
       "0  Image may contain: one or more people and text                \n",
       "1  Sacred geometry flower of life and goddess artwork            \n",
       "2  Image may contain: 1 person                                   \n",
       "3  Image may contain: food                                       \n",
       "4  Image may contain: sky, mountain, outdoor, water and nature   \n",
       "\n",
       "                                                                                                                                                                                                                                                                                                                                                                                                                                                                                                                                                                                                                                                                                                                                                                                                                                  firstComment  \\\n",
       "0  The best offense is a good defense so here's some healthy tips on how to boast your immunity as work through this Covid-19 scare.\\n.\\nDon't be scared, just take care.                                                                                                                                                                                                                                                                                                                                                                                                                                                                                                                                                                                                                                                                        \n",
       "1  Nature reflects back to us our own imbalance. When the health of the earth and ecosystems are compromised, our own health is also compromised. We are a part of Nature, and her sickness becomes our sickness ~ her health, our health 🌏 Art: @mimbirose #sacredgeometryart #seedoflife #floweroflife #cyclesofnature                                                                                                                                                                                                                                                                                                                                                                                                                                                                                                                         \n",
       "2  Concerning the current outbreak of Covid-19 (Coronavirus), which has now been declared as a pandemic, we must take precautions and safety measures to avoid its spread. Even a simple handshake can cause the transfer of harmful disease-causing bacteria.\\n\\nA safe way to greet others is through Namaste, a customary and respectful Indian greeting, which is also a part of Atmantan's culture 🙏🏻 #Atmantan #BeTransformed #AtmantanWellnessResort                                                                                                                                                                                                                                                                                                                                                                                      \n",
       "3  Lunch out today with my daughter😀 jacket potato with tuna and cheese HEA and speedy salad 🥒🍅🥔#slimmingworld#slimmingworldblog#weightlossjourney#weighlossjourney2020#slimmingworldblogger#healthylifestyle#healthyeating#healthyliving#diet#sw#healthylivingjourney                                                                                                                                                                                                                                                                                                                                                                                                                                                                                                                                                                           \n",
       "4  Whenever you are faced with fear, you always have a choice.\\nFear is something we all have faced and will face it again. It’s inevitable and something needs to change.\\n\\nDon't let fear win and over power you. Believe that you are strong and capable. \"Forget Everything and Run,’ or, ‘Face Everything and Rise.\" The choice is yours.\\n\\n#choiceisyours #choiceschoices #criticschoice #hardchoices #mindsetchange #mindsetofachampion #selfreflections #selfawareness #mortgageloanofficer #mortgagebanker #mortgageagent #teacherofinstagram #teacherblogger #nurseofinstagram #fitnesshelp #healthylivingjourney #fitmomsclub #getfitforlife #fitmominspire #timefreedom #workfromhomedad #selfemployedlife #goalslayer #workforwhatyouwant #helpinghands #givingback #careforothers #makeadifference #makeanimpact #peoplematter   \n",
       "\n",
       "   likesCount                 timestamp  \n",
       "0  1           2020-03-12T14:32:48.000Z  \n",
       "1  2           2020-03-12T14:22:34.000Z  \n",
       "2  24          2020-03-12T14:17:54.000Z  \n",
       "3  3           2020-03-12T14:17:02.000Z  \n",
       "4  1           2020-03-12T14:01:39.000Z  "
      ]
     },
     "execution_count": 14,
     "metadata": {},
     "output_type": "execute_result"
    }
   ],
   "source": [
    "instagram.head()"
   ]
  },
  {
   "cell_type": "code",
   "execution_count": 15,
   "metadata": {},
   "outputs": [
    {
     "data": {
      "text/plain": [
       "alt             1096\n",
       "firstComment    102 \n",
       "likesCount      0   \n",
       "timestamp       0   \n",
       "dtype: int64"
      ]
     },
     "execution_count": 15,
     "metadata": {},
     "output_type": "execute_result"
    }
   ],
   "source": [
    "instagram.isnull().sum()"
   ]
  },
  {
   "cell_type": "code",
   "execution_count": 16,
   "metadata": {},
   "outputs": [],
   "source": [
    "# removing Nan Rows\n",
    "instagram.dropna(subset=[\"firstComment\"], inplace = True)"
   ]
  },
  {
   "cell_type": "code",
   "execution_count": 17,
   "metadata": {},
   "outputs": [
    {
     "data": {
      "text/plain": [
       "alt             1069\n",
       "firstComment    0   \n",
       "likesCount      0   \n",
       "timestamp       0   \n",
       "dtype: int64"
      ]
     },
     "execution_count": 17,
     "metadata": {},
     "output_type": "execute_result"
    }
   ],
   "source": [
    "instagram.isnull().sum()"
   ]
  },
  {
   "cell_type": "code",
   "execution_count": 18,
   "metadata": {},
   "outputs": [],
   "source": [
    "# creating a column for hashtags"
   ]
  },
  {
   "cell_type": "code",
   "execution_count": 19,
   "metadata": {},
   "outputs": [],
   "source": [
    "def get_hashtag(s):\n",
    "    s = s.replace(\" \", \"\")\n",
    "    return re.findall(r\"#([a-z]+)\", s, flags=re.IGNORECASE)"
   ]
  },
  {
   "cell_type": "code",
   "execution_count": 20,
   "metadata": {},
   "outputs": [],
   "source": [
    "instagram[\"hashtags\"] = instagram.firstComment.apply(str).apply(lambda x: get_hashtag(x))"
   ]
  },
  {
   "cell_type": "code",
   "execution_count": 21,
   "metadata": {
    "scrolled": true
   },
   "outputs": [
    {
     "data": {
      "text/html": [
       "<div>\n",
       "<style scoped>\n",
       "    .dataframe tbody tr th:only-of-type {\n",
       "        vertical-align: middle;\n",
       "    }\n",
       "\n",
       "    .dataframe tbody tr th {\n",
       "        vertical-align: top;\n",
       "    }\n",
       "\n",
       "    .dataframe thead th {\n",
       "        text-align: right;\n",
       "    }\n",
       "</style>\n",
       "<table border=\"1\" class=\"dataframe\">\n",
       "  <thead>\n",
       "    <tr style=\"text-align: right;\">\n",
       "      <th></th>\n",
       "      <th>alt</th>\n",
       "      <th>firstComment</th>\n",
       "      <th>likesCount</th>\n",
       "      <th>timestamp</th>\n",
       "      <th>hashtags</th>\n",
       "    </tr>\n",
       "  </thead>\n",
       "  <tbody>\n",
       "    <tr>\n",
       "      <th>0</th>\n",
       "      <td>Image may contain: one or more people and text</td>\n",
       "      <td>The best offense is a good defense so here's some healthy tips on how to boast your immunity as work through this Covid-19 scare.\\n.\\nDon't be scared, just take care.</td>\n",
       "      <td>1</td>\n",
       "      <td>2020-03-12T14:32:48.000Z</td>\n",
       "      <td>[]</td>\n",
       "    </tr>\n",
       "    <tr>\n",
       "      <th>1</th>\n",
       "      <td>Sacred geometry flower of life and goddess artwork</td>\n",
       "      <td>Nature reflects back to us our own imbalance. When the health of the earth and ecosystems are compromised, our own health is also compromised. We are a part of Nature, and her sickness becomes our sickness ~ her health, our health 🌏 Art: @mimbirose #sacredgeometryart #seedoflife #floweroflife #cyclesofnature</td>\n",
       "      <td>2</td>\n",
       "      <td>2020-03-12T14:22:34.000Z</td>\n",
       "      <td>[sacredgeometryart, seedoflife, floweroflife, cyclesofnature]</td>\n",
       "    </tr>\n",
       "    <tr>\n",
       "      <th>2</th>\n",
       "      <td>Image may contain: 1 person</td>\n",
       "      <td>Concerning the current outbreak of Covid-19 (Coronavirus), which has now been declared as a pandemic, we must take precautions and safety measures to avoid its spread. Even a simple handshake can cause the transfer of harmful disease-causing bacteria.\\n\\nA safe way to greet others is through Namaste, a customary and respectful Indian greeting, which is also a part of Atmantan's culture 🙏🏻 #Atmantan #BeTransformed #AtmantanWellnessResort</td>\n",
       "      <td>24</td>\n",
       "      <td>2020-03-12T14:17:54.000Z</td>\n",
       "      <td>[Atmantan, BeTransformed, AtmantanWellnessResort]</td>\n",
       "    </tr>\n",
       "    <tr>\n",
       "      <th>3</th>\n",
       "      <td>Image may contain: food</td>\n",
       "      <td>Lunch out today with my daughter😀 jacket potato with tuna and cheese HEA and speedy salad 🥒🍅🥔#slimmingworld#slimmingworldblog#weightlossjourney#weighlossjourney2020#slimmingworldblogger#healthylifestyle#healthyeating#healthyliving#diet#sw#healthylivingjourney</td>\n",
       "      <td>3</td>\n",
       "      <td>2020-03-12T14:17:02.000Z</td>\n",
       "      <td>[slimmingworld, slimmingworldblog, weightlossjourney, weighlossjourney, slimmingworldblogger, healthylifestyle, healthyeating, healthyliving, diet, sw, healthylivingjourney]</td>\n",
       "    </tr>\n",
       "    <tr>\n",
       "      <th>4</th>\n",
       "      <td>Image may contain: sky, mountain, outdoor, water and nature</td>\n",
       "      <td>Whenever you are faced with fear, you always have a choice.\\nFear is something we all have faced and will face it again. It’s inevitable and something needs to change.\\n\\nDon't let fear win and over power you. Believe that you are strong and capable. \"Forget Everything and Run,’ or, ‘Face Everything and Rise.\" The choice is yours.\\n\\n#choiceisyours #choiceschoices #criticschoice #hardchoices #mindsetchange #mindsetofachampion #selfreflections #selfawareness #mortgageloanofficer #mortgagebanker #mortgageagent #teacherofinstagram #teacherblogger #nurseofinstagram #fitnesshelp #healthylivingjourney #fitmomsclub #getfitforlife #fitmominspire #timefreedom #workfromhomedad #selfemployedlife #goalslayer #workforwhatyouwant #helpinghands #givingback #careforothers #makeadifference #makeanimpact #peoplematter</td>\n",
       "      <td>1</td>\n",
       "      <td>2020-03-12T14:01:39.000Z</td>\n",
       "      <td>[choiceisyours, choiceschoices, criticschoice, hardchoices, mindsetchange, mindsetofachampion, selfreflections, selfawareness, mortgageloanofficer, mortgagebanker, mortgageagent, teacherofinstagram, teacherblogger, nurseofinstagram, fitnesshelp, healthylivingjourney, fitmomsclub, getfitforlife, fitmominspire, timefreedom, workfromhomedad, selfemployedlife, goalslayer, workforwhatyouwant, helpinghands, givingback, careforothers, makeadifference, makeanimpact, peoplematter]</td>\n",
       "    </tr>\n",
       "  </tbody>\n",
       "</table>\n",
       "</div>"
      ],
      "text/plain": [
       "                                                           alt  \\\n",
       "0  Image may contain: one or more people and text                \n",
       "1  Sacred geometry flower of life and goddess artwork            \n",
       "2  Image may contain: 1 person                                   \n",
       "3  Image may contain: food                                       \n",
       "4  Image may contain: sky, mountain, outdoor, water and nature   \n",
       "\n",
       "                                                                                                                                                                                                                                                                                                                                                                                                                                                                                                                                                                                                                                                                                                                                                                                                                                  firstComment  \\\n",
       "0  The best offense is a good defense so here's some healthy tips on how to boast your immunity as work through this Covid-19 scare.\\n.\\nDon't be scared, just take care.                                                                                                                                                                                                                                                                                                                                                                                                                                                                                                                                                                                                                                                                        \n",
       "1  Nature reflects back to us our own imbalance. When the health of the earth and ecosystems are compromised, our own health is also compromised. We are a part of Nature, and her sickness becomes our sickness ~ her health, our health 🌏 Art: @mimbirose #sacredgeometryart #seedoflife #floweroflife #cyclesofnature                                                                                                                                                                                                                                                                                                                                                                                                                                                                                                                         \n",
       "2  Concerning the current outbreak of Covid-19 (Coronavirus), which has now been declared as a pandemic, we must take precautions and safety measures to avoid its spread. Even a simple handshake can cause the transfer of harmful disease-causing bacteria.\\n\\nA safe way to greet others is through Namaste, a customary and respectful Indian greeting, which is also a part of Atmantan's culture 🙏🏻 #Atmantan #BeTransformed #AtmantanWellnessResort                                                                                                                                                                                                                                                                                                                                                                                      \n",
       "3  Lunch out today with my daughter😀 jacket potato with tuna and cheese HEA and speedy salad 🥒🍅🥔#slimmingworld#slimmingworldblog#weightlossjourney#weighlossjourney2020#slimmingworldblogger#healthylifestyle#healthyeating#healthyliving#diet#sw#healthylivingjourney                                                                                                                                                                                                                                                                                                                                                                                                                                                                                                                                                                           \n",
       "4  Whenever you are faced with fear, you always have a choice.\\nFear is something we all have faced and will face it again. It’s inevitable and something needs to change.\\n\\nDon't let fear win and over power you. Believe that you are strong and capable. \"Forget Everything and Run,’ or, ‘Face Everything and Rise.\" The choice is yours.\\n\\n#choiceisyours #choiceschoices #criticschoice #hardchoices #mindsetchange #mindsetofachampion #selfreflections #selfawareness #mortgageloanofficer #mortgagebanker #mortgageagent #teacherofinstagram #teacherblogger #nurseofinstagram #fitnesshelp #healthylivingjourney #fitmomsclub #getfitforlife #fitmominspire #timefreedom #workfromhomedad #selfemployedlife #goalslayer #workforwhatyouwant #helpinghands #givingback #careforothers #makeadifference #makeanimpact #peoplematter   \n",
       "\n",
       "   likesCount                 timestamp  \\\n",
       "0  1           2020-03-12T14:32:48.000Z   \n",
       "1  2           2020-03-12T14:22:34.000Z   \n",
       "2  24          2020-03-12T14:17:54.000Z   \n",
       "3  3           2020-03-12T14:17:02.000Z   \n",
       "4  1           2020-03-12T14:01:39.000Z   \n",
       "\n",
       "                                                                                                                                                                                                                                                                                                                                                                                                                                                                                       hashtags  \n",
       "0  []                                                                                                                                                                                                                                                                                                                                                                                                                                                                                            \n",
       "1  [sacredgeometryart, seedoflife, floweroflife, cyclesofnature]                                                                                                                                                                                                                                                                                                                                                                                                                                 \n",
       "2  [Atmantan, BeTransformed, AtmantanWellnessResort]                                                                                                                                                                                                                                                                                                                                                                                                                                             \n",
       "3  [slimmingworld, slimmingworldblog, weightlossjourney, weighlossjourney, slimmingworldblogger, healthylifestyle, healthyeating, healthyliving, diet, sw, healthylivingjourney]                                                                                                                                                                                                                                                                                                                 \n",
       "4  [choiceisyours, choiceschoices, criticschoice, hardchoices, mindsetchange, mindsetofachampion, selfreflections, selfawareness, mortgageloanofficer, mortgagebanker, mortgageagent, teacherofinstagram, teacherblogger, nurseofinstagram, fitnesshelp, healthylivingjourney, fitmomsclub, getfitforlife, fitmominspire, timefreedom, workfromhomedad, selfemployedlife, goalslayer, workforwhatyouwant, helpinghands, givingback, careforothers, makeadifference, makeanimpact, peoplematter]  "
      ]
     },
     "execution_count": 21,
     "metadata": {},
     "output_type": "execute_result"
    }
   ],
   "source": [
    "instagram.head()"
   ]
  },
  {
   "cell_type": "code",
   "execution_count": 22,
   "metadata": {},
   "outputs": [],
   "source": [
    "# removing hashtags from the body of the post"
   ]
  },
  {
   "cell_type": "code",
   "execution_count": 23,
   "metadata": {},
   "outputs": [],
   "source": [
    "instagram[\"post\"] = instagram.firstComment.apply(str).str.lower().apply(lambda x: re.sub(r\"#([a-z]+)\",\"\",x))\n",
    "                                                 \n",
    "                                                 "
   ]
  },
  {
   "cell_type": "code",
   "execution_count": 24,
   "metadata": {},
   "outputs": [
    {
     "data": {
      "text/html": [
       "<div>\n",
       "<style scoped>\n",
       "    .dataframe tbody tr th:only-of-type {\n",
       "        vertical-align: middle;\n",
       "    }\n",
       "\n",
       "    .dataframe tbody tr th {\n",
       "        vertical-align: top;\n",
       "    }\n",
       "\n",
       "    .dataframe thead th {\n",
       "        text-align: right;\n",
       "    }\n",
       "</style>\n",
       "<table border=\"1\" class=\"dataframe\">\n",
       "  <thead>\n",
       "    <tr style=\"text-align: right;\">\n",
       "      <th></th>\n",
       "      <th>alt</th>\n",
       "      <th>firstComment</th>\n",
       "      <th>likesCount</th>\n",
       "      <th>timestamp</th>\n",
       "      <th>hashtags</th>\n",
       "      <th>post</th>\n",
       "    </tr>\n",
       "  </thead>\n",
       "  <tbody>\n",
       "    <tr>\n",
       "      <th>0</th>\n",
       "      <td>Image may contain: one or more people and text</td>\n",
       "      <td>The best offense is a good defense so here's some healthy tips on how to boast your immunity as work through this Covid-19 scare.\\n.\\nDon't be scared, just take care.</td>\n",
       "      <td>1</td>\n",
       "      <td>2020-03-12T14:32:48.000Z</td>\n",
       "      <td>[]</td>\n",
       "      <td>the best offense is a good defense so here's some healthy tips on how to boast your immunity as work through this covid-19 scare.\\n.\\ndon't be scared, just take care.</td>\n",
       "    </tr>\n",
       "    <tr>\n",
       "      <th>1</th>\n",
       "      <td>Sacred geometry flower of life and goddess artwork</td>\n",
       "      <td>Nature reflects back to us our own imbalance. When the health of the earth and ecosystems are compromised, our own health is also compromised. We are a part of Nature, and her sickness becomes our sickness ~ her health, our health 🌏 Art: @mimbirose #sacredgeometryart #seedoflife #floweroflife #cyclesofnature</td>\n",
       "      <td>2</td>\n",
       "      <td>2020-03-12T14:22:34.000Z</td>\n",
       "      <td>[sacredgeometryart, seedoflife, floweroflife, cyclesofnature]</td>\n",
       "      <td>nature reflects back to us our own imbalance. when the health of the earth and ecosystems are compromised, our own health is also compromised. we are a part of nature, and her sickness becomes our sickness ~ her health, our health 🌏 art: @mimbirose</td>\n",
       "    </tr>\n",
       "    <tr>\n",
       "      <th>2</th>\n",
       "      <td>Image may contain: 1 person</td>\n",
       "      <td>Concerning the current outbreak of Covid-19 (Coronavirus), which has now been declared as a pandemic, we must take precautions and safety measures to avoid its spread. Even a simple handshake can cause the transfer of harmful disease-causing bacteria.\\n\\nA safe way to greet others is through Namaste, a customary and respectful Indian greeting, which is also a part of Atmantan's culture 🙏🏻 #Atmantan #BeTransformed #AtmantanWellnessResort</td>\n",
       "      <td>24</td>\n",
       "      <td>2020-03-12T14:17:54.000Z</td>\n",
       "      <td>[Atmantan, BeTransformed, AtmantanWellnessResort]</td>\n",
       "      <td>concerning the current outbreak of covid-19 (coronavirus), which has now been declared as a pandemic, we must take precautions and safety measures to avoid its spread. even a simple handshake can cause the transfer of harmful disease-causing bacteria.\\n\\na safe way to greet others is through namaste, a customary and respectful indian greeting, which is also a part of atmantan's culture 🙏🏻</td>\n",
       "    </tr>\n",
       "    <tr>\n",
       "      <th>3</th>\n",
       "      <td>Image may contain: food</td>\n",
       "      <td>Lunch out today with my daughter😀 jacket potato with tuna and cheese HEA and speedy salad 🥒🍅🥔#slimmingworld#slimmingworldblog#weightlossjourney#weighlossjourney2020#slimmingworldblogger#healthylifestyle#healthyeating#healthyliving#diet#sw#healthylivingjourney</td>\n",
       "      <td>3</td>\n",
       "      <td>2020-03-12T14:17:02.000Z</td>\n",
       "      <td>[slimmingworld, slimmingworldblog, weightlossjourney, weighlossjourney, slimmingworldblogger, healthylifestyle, healthyeating, healthyliving, diet, sw, healthylivingjourney]</td>\n",
       "      <td>lunch out today with my daughter😀 jacket potato with tuna and cheese hea and speedy salad 🥒🍅🥔2020</td>\n",
       "    </tr>\n",
       "    <tr>\n",
       "      <th>4</th>\n",
       "      <td>Image may contain: sky, mountain, outdoor, water and nature</td>\n",
       "      <td>Whenever you are faced with fear, you always have a choice.\\nFear is something we all have faced and will face it again. It’s inevitable and something needs to change.\\n\\nDon't let fear win and over power you. Believe that you are strong and capable. \"Forget Everything and Run,’ or, ‘Face Everything and Rise.\" The choice is yours.\\n\\n#choiceisyours #choiceschoices #criticschoice #hardchoices #mindsetchange #mindsetofachampion #selfreflections #selfawareness #mortgageloanofficer #mortgagebanker #mortgageagent #teacherofinstagram #teacherblogger #nurseofinstagram #fitnesshelp #healthylivingjourney #fitmomsclub #getfitforlife #fitmominspire #timefreedom #workfromhomedad #selfemployedlife #goalslayer #workforwhatyouwant #helpinghands #givingback #careforothers #makeadifference #makeanimpact #peoplematter</td>\n",
       "      <td>1</td>\n",
       "      <td>2020-03-12T14:01:39.000Z</td>\n",
       "      <td>[choiceisyours, choiceschoices, criticschoice, hardchoices, mindsetchange, mindsetofachampion, selfreflections, selfawareness, mortgageloanofficer, mortgagebanker, mortgageagent, teacherofinstagram, teacherblogger, nurseofinstagram, fitnesshelp, healthylivingjourney, fitmomsclub, getfitforlife, fitmominspire, timefreedom, workfromhomedad, selfemployedlife, goalslayer, workforwhatyouwant, helpinghands, givingback, careforothers, makeadifference, makeanimpact, peoplematter]</td>\n",
       "      <td>whenever you are faced with fear, you always have a choice.\\nfear is something we all have faced and will face it again. it’s inevitable and something needs to change.\\n\\ndon't let fear win and over power you. believe that you are strong and capable. \"forget everything and run,’ or, ‘face everything and rise.\" the choice is yours.\\n\\n</td>\n",
       "    </tr>\n",
       "  </tbody>\n",
       "</table>\n",
       "</div>"
      ],
      "text/plain": [
       "                                                           alt  \\\n",
       "0  Image may contain: one or more people and text                \n",
       "1  Sacred geometry flower of life and goddess artwork            \n",
       "2  Image may contain: 1 person                                   \n",
       "3  Image may contain: food                                       \n",
       "4  Image may contain: sky, mountain, outdoor, water and nature   \n",
       "\n",
       "                                                                                                                                                                                                                                                                                                                                                                                                                                                                                                                                                                                                                                                                                                                                                                                                                                  firstComment  \\\n",
       "0  The best offense is a good defense so here's some healthy tips on how to boast your immunity as work through this Covid-19 scare.\\n.\\nDon't be scared, just take care.                                                                                                                                                                                                                                                                                                                                                                                                                                                                                                                                                                                                                                                                        \n",
       "1  Nature reflects back to us our own imbalance. When the health of the earth and ecosystems are compromised, our own health is also compromised. We are a part of Nature, and her sickness becomes our sickness ~ her health, our health 🌏 Art: @mimbirose #sacredgeometryart #seedoflife #floweroflife #cyclesofnature                                                                                                                                                                                                                                                                                                                                                                                                                                                                                                                         \n",
       "2  Concerning the current outbreak of Covid-19 (Coronavirus), which has now been declared as a pandemic, we must take precautions and safety measures to avoid its spread. Even a simple handshake can cause the transfer of harmful disease-causing bacteria.\\n\\nA safe way to greet others is through Namaste, a customary and respectful Indian greeting, which is also a part of Atmantan's culture 🙏🏻 #Atmantan #BeTransformed #AtmantanWellnessResort                                                                                                                                                                                                                                                                                                                                                                                      \n",
       "3  Lunch out today with my daughter😀 jacket potato with tuna and cheese HEA and speedy salad 🥒🍅🥔#slimmingworld#slimmingworldblog#weightlossjourney#weighlossjourney2020#slimmingworldblogger#healthylifestyle#healthyeating#healthyliving#diet#sw#healthylivingjourney                                                                                                                                                                                                                                                                                                                                                                                                                                                                                                                                                                           \n",
       "4  Whenever you are faced with fear, you always have a choice.\\nFear is something we all have faced and will face it again. It’s inevitable and something needs to change.\\n\\nDon't let fear win and over power you. Believe that you are strong and capable. \"Forget Everything and Run,’ or, ‘Face Everything and Rise.\" The choice is yours.\\n\\n#choiceisyours #choiceschoices #criticschoice #hardchoices #mindsetchange #mindsetofachampion #selfreflections #selfawareness #mortgageloanofficer #mortgagebanker #mortgageagent #teacherofinstagram #teacherblogger #nurseofinstagram #fitnesshelp #healthylivingjourney #fitmomsclub #getfitforlife #fitmominspire #timefreedom #workfromhomedad #selfemployedlife #goalslayer #workforwhatyouwant #helpinghands #givingback #careforothers #makeadifference #makeanimpact #peoplematter   \n",
       "\n",
       "   likesCount                 timestamp  \\\n",
       "0  1           2020-03-12T14:32:48.000Z   \n",
       "1  2           2020-03-12T14:22:34.000Z   \n",
       "2  24          2020-03-12T14:17:54.000Z   \n",
       "3  3           2020-03-12T14:17:02.000Z   \n",
       "4  1           2020-03-12T14:01:39.000Z   \n",
       "\n",
       "                                                                                                                                                                                                                                                                                                                                                                                                                                                                                       hashtags  \\\n",
       "0  []                                                                                                                                                                                                                                                                                                                                                                                                                                                                                             \n",
       "1  [sacredgeometryart, seedoflife, floweroflife, cyclesofnature]                                                                                                                                                                                                                                                                                                                                                                                                                                  \n",
       "2  [Atmantan, BeTransformed, AtmantanWellnessResort]                                                                                                                                                                                                                                                                                                                                                                                                                                              \n",
       "3  [slimmingworld, slimmingworldblog, weightlossjourney, weighlossjourney, slimmingworldblogger, healthylifestyle, healthyeating, healthyliving, diet, sw, healthylivingjourney]                                                                                                                                                                                                                                                                                                                  \n",
       "4  [choiceisyours, choiceschoices, criticschoice, hardchoices, mindsetchange, mindsetofachampion, selfreflections, selfawareness, mortgageloanofficer, mortgagebanker, mortgageagent, teacherofinstagram, teacherblogger, nurseofinstagram, fitnesshelp, healthylivingjourney, fitmomsclub, getfitforlife, fitmominspire, timefreedom, workfromhomedad, selfemployedlife, goalslayer, workforwhatyouwant, helpinghands, givingback, careforothers, makeadifference, makeanimpact, peoplematter]   \n",
       "\n",
       "                                                                                                                                                                                                                                                                                                                                                                                                         post  \n",
       "0  the best offense is a good defense so here's some healthy tips on how to boast your immunity as work through this covid-19 scare.\\n.\\ndon't be scared, just take care.                                                                                                                                                                                                                                      \n",
       "1  nature reflects back to us our own imbalance. when the health of the earth and ecosystems are compromised, our own health is also compromised. we are a part of nature, and her sickness becomes our sickness ~ her health, our health 🌏 art: @mimbirose                                                                                                                                                    \n",
       "2  concerning the current outbreak of covid-19 (coronavirus), which has now been declared as a pandemic, we must take precautions and safety measures to avoid its spread. even a simple handshake can cause the transfer of harmful disease-causing bacteria.\\n\\na safe way to greet others is through namaste, a customary and respectful indian greeting, which is also a part of atmantan's culture 🙏🏻     \n",
       "3  lunch out today with my daughter😀 jacket potato with tuna and cheese hea and speedy salad 🥒🍅🥔2020                                                                                                                                                                                                                                                                                                           \n",
       "4  whenever you are faced with fear, you always have a choice.\\nfear is something we all have faced and will face it again. it’s inevitable and something needs to change.\\n\\ndon't let fear win and over power you. believe that you are strong and capable. \"forget everything and run,’ or, ‘face everything and rise.\" the choice is yours.\\n\\n                                                            "
      ]
     },
     "execution_count": 24,
     "metadata": {},
     "output_type": "execute_result"
    }
   ],
   "source": [
    "instagram.head()"
   ]
  },
  {
   "cell_type": "code",
   "execution_count": 25,
   "metadata": {},
   "outputs": [],
   "source": [
    "# Now only hashtags"
   ]
  },
  {
   "cell_type": "code",
   "execution_count": 26,
   "metadata": {},
   "outputs": [],
   "source": [
    "hashtags = instagram[\"hashtags\"].explode()"
   ]
  },
  {
   "cell_type": "code",
   "execution_count": 27,
   "metadata": {},
   "outputs": [
    {
     "data": {
      "text/plain": [
       "['healthylifestyle',\n",
       " 'healthyliving',\n",
       " 'healthyfood',\n",
       " 'fitness',\n",
       " 'healthy',\n",
       " 'healthylifestylechange',\n",
       " 'healthyeating',\n",
       " 'healthylifestylecoach',\n",
       " 'healthylivingtips',\n",
       " 'healthylifestylechanges',\n",
       " 'healthylifestylechoices',\n",
       " 'healthylifestyles',\n",
       " 'healthylifestylemovement',\n",
       " 'arbonne',\n",
       " 'healthylifestyletips',\n",
       " 'healthylifestylejourney',\n",
       " 'health',\n",
       " 'healthylivingrevolution',\n",
       " 'nutrition',\n",
       " 'weightloss',\n",
       " 'healthylifestyleblogger',\n",
       " 'vegan',\n",
       " 'healthylifestylesolutions',\n",
       " 'fitnessmotivation',\n",
       " 'healthylifestylenot']"
      ]
     },
     "execution_count": 27,
     "metadata": {},
     "output_type": "execute_result"
    }
   ],
   "source": [
    "hashtags1 = hashtags.value_counts().head(25).index.tolist()\n",
    "hashtags1"
   ]
  },
  {
   "cell_type": "markdown",
   "metadata": {},
   "source": [
    "# Visualisation"
   ]
  },
  {
   "cell_type": "code",
   "execution_count": 28,
   "metadata": {},
   "outputs": [],
   "source": [
    "import numpy as np\n",
    "from os import path\n",
    "from PIL import Image\n",
    "from wordcloud import WordCloud, STOPWORDS, ImageColorGenerator\n",
    "\n",
    "import matplotlib.pyplot as plt\n",
    "%matplotlib inline"
   ]
  },
  {
   "cell_type": "code",
   "execution_count": 29,
   "metadata": {},
   "outputs": [],
   "source": [
    "text = ' '.join(hashtags1)"
   ]
  },
  {
   "cell_type": "code",
   "execution_count": 30,
   "metadata": {},
   "outputs": [
    {
     "data": {
      "text/plain": [
       "'healthylifestyle healthyliving healthyfood fitness healthy healthylifestylechange healthyeating healthylifestylecoach healthylivingtips healthylifestylechanges healthylifestylechoices healthylifestyles healthylifestylemovement arbonne healthylifestyletips healthylifestylejourney health healthylivingrevolution nutrition weightloss healthylifestyleblogger vegan healthylifestylesolutions fitnessmotivation healthylifestylenot'"
      ]
     },
     "execution_count": 30,
     "metadata": {},
     "output_type": "execute_result"
    }
   ],
   "source": [
    "text"
   ]
  },
  {
   "cell_type": "code",
   "execution_count": 31,
   "metadata": {
    "scrolled": true
   },
   "outputs": [
    {
     "data": {
      "image/png": "[encoded data removed]",
      "text/plain": [
       "<Figure size 432x288 with 1 Axes>"
      ]
     },
     "metadata": {
      "needs_background": "light"
     },
     "output_type": "display_data"
    }
   ],
   "source": [
    "\n",
    "wordcloud = WordCloud(max_font_size=50, max_words=100, background_color=\"white\").generate(text)\n",
    "\n",
    "plt.imshow(wordcloud, interpolation='bilinear')\n",
    "plt.axis(\"off\")\n",
    "plt.show()"
   ]
  },
  {
   "cell_type": "code",
   "execution_count": 32,
   "metadata": {},
   "outputs": [
    {
     "name": "stderr",
     "output_type": "stream",
     "text": [
      "/Library/Frameworks/Python.framework/Versions/3.7/lib/python3.7/site-packages/ipykernel_launcher.py:2: FutureWarning: The signature of `Series.to_csv` was aligned to that of `DataFrame.to_csv`, and argument 'header' will change its default value from False to True: please pass an explicit value to suppress this warning.\n",
      "  \n"
     ]
    }
   ],
   "source": [
    "instagram.to_csv(\"instagram.csv\")\n",
    "hashtags.to_csv(\"hashtags.csv\")"
   ]
  }
 ],
 "metadata": {
  "kernelspec": {
   "display_name": "Python 3",
   "language": "python",
   "name": "python3"
  },
  "language_info": {
   "codemirror_mode": {
    "name": "ipython",
    "version": 3
   },
   "file_extension": ".py",
   "mimetype": "text/x-python",
   "name": "python",
   "nbconvert_exporter": "python",
   "pygments_lexer": "ipython3",
   "version": "3.7.2"
  }
 },
 "nbformat": 4,
 "nbformat_minor": 2
}
