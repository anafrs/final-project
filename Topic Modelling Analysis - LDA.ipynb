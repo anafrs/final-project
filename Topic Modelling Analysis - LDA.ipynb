{
 "cells": [
  {
   "cell_type": "code",
   "execution_count": 48,
   "metadata": {},
   "outputs": [],
   "source": [
    "from ipynb.fs.full.functions import clean_up, tokenize, stem_and_lemmatize, lemmatize,  remove_stopwords\n",
    "import pandas as pd\n",
    "import nltk\n",
    "from pprint import pprint\n"
   ]
  },
  {
   "cell_type": "code",
   "execution_count": 2,
   "metadata": {},
   "outputs": [],
   "source": [
    "import gensim\n",
    "import gensim.corpora as corpora\n",
    "import re\n",
    "import spacy\n",
    "from gensim.utils import simple_preprocess"
   ]
  },
  {
   "cell_type": "code",
   "execution_count": 3,
   "metadata": {},
   "outputs": [],
   "source": [
    "instagram = pd.read_csv(\"instagram.csv\")\n"
   ]
  },
  {
   "cell_type": "markdown",
   "metadata": {},
   "source": [
    "## Topic Analysis - experiments"
   ]
  },
  {
   "cell_type": "code",
   "execution_count": 4,
   "metadata": {},
   "outputs": [],
   "source": [
    "# inspired here https://www.machinelearningplus.com/nlp/topic-modeling-gensim-python/"
   ]
  },
  {
   "cell_type": "markdown",
   "metadata": {},
   "source": [
    "Topic modeling is the process of identifying topics in a set of documents.Latent Dirichlet Allocation (LDA) is a probabilistic method for Topic Modelling."
   ]
  },
  {
   "cell_type": "code",
   "execution_count": 5,
   "metadata": {},
   "outputs": [
    {
     "data": {
      "text/plain": [
       "[\"the best offense is a good defense so here's some healthy tips on how to boast your immunity as work through this covid-19 scare.\\n.\\ndon't be scared, just take care.\",\n",
       " 'nature reflects back to us our own imbalance. when the health of the earth and ecosystems are compromised, our own health is also compromised. we are a part of nature, and her sickness becomes our sickness ~ her health, our health 🌏 art: @mimbirose    ',\n",
       " \"concerning the current outbreak of covid-19 (coronavirus), which has now been declared as a pandemic, we must take precautions and safety measures to avoid its spread. even a simple handshake can cause the transfer of harmful disease-causing bacteria.\\n\\na safe way to greet others is through namaste, a customary and respectful indian greeting, which is also a part of atmantan's culture 🙏🏻   \",\n",
       " 'lunch out today with my daughter😀 jacket potato with tuna and cheese hea and speedy salad 🥒🍅🥔2020',\n",
       " 'whenever you are faced with fear, you always have a choice.\\nfear is something we all have faced and will face it again. it’s inevitable and something needs to change.\\n\\ndon\\'t let fear win and over power you. believe that you are strong and capable. \"forget everything and run,’ or, ‘face everything and rise.\" the choice is yours.\\n\\n                             ',\n",
       " \"who doesn't love cucumber? it’s high in vitamin c, vitamin k and contains a lot of antioxidants that block oxidation, meaning it protects your skin from free radicals in the air and keeps your skin looking youthful! ☺️these little beauties also reduce the risk of chronic disease, reduces blood sugar, and promotes hydration! our greens 2 has green apple 🍏, pineapple 🍍, kale🥬, and cucumber 🥒, all the things you need to supercharge your day!!\\n•\\n•\\n•\\n                   #2020 #2020vision  \",\n",
       " 'gift time! (swipe) i’m always on the go and @revivesuperfoods has saved me from having to spend time making a healthy breakfast every morning. ready-to-blend smoothies crafted with farm-frozen premium ingredients delivered right to your door. all you have to do is add liquid and blend! i’ve tried their flavours and love them! @revivesuperfoods was awesome enough to partner with me in hosting a !\\n1 lucky winner will be randomly selected to win a box of 9 of their best selling smoothies (or overnight oats).\\nhere’s how to enter:\\n1. follow @revivesuperfoods & @perfectly_redefined \\n2. tag 1, 2, or 3 friends who you’ll be sharing your prize with\\n3. let me know in the comments below what your fav smoothie ingredient is! \\nuse my code redef60 for 60% off and get yours! *giveaway is open to us and canadian residents only. winner will be chosen 7 days from now. goodluck! .\\n.\\n.\\n.\\n.\\n.\\n.\\n.\\n                            31220l',\n",
       " \"scared of coronavirus? please don't worry take all the safety measures, but remember one day everyone has to die. and that one day can be anyday for you and everyone else on this planet. don't take your today for granted and try not to leave any regrets to recall on the deathbed. spend everyday as a gift 🎁 .\\ndrop a 👍 if you agree .\\n.\\n👥share to spread awareness .\\n.\\n💈save post for later💈\\n.\\n.\\ncheck out @happysoulplus to find more soulful thoughts 💭\",\n",
       " \"who doesn't love mani-pedis? 💅\\nnot only does it help us feel pampered, but it also makes us feel more confident. 🥰\\n\\nhowever, we should also be aware about the risks it may cause to our overall health, such as: \\n#1  infection\\n#2  contact dermatitis\\n#3  plantar warts\\n#4  cancer and aging ... these are complications which are possibly caused by:\\n\\n1.  tools that are not disinfected or sanitized.\\n2.  general uncleanliness of the salon as a whole.\\n3.  poor hygiene practices.\\n4.  improper cleaning of foot baths.\\n5.  you nail technician may be too aggressive.\\n6.  your technician may be careless and inattentive.\\n\\nread more about this: 👇👇\\n(site link in bio)\\nhttps://www.lifemaghealth.com/potential-dangers-of-having-mani-pedis-in-nail-salons/\\n\\n             \",\n",
       " \"y'all know that i am not a morning person. give me coffee all day, everyday. being a working mom, it's a struggle to stay awake sometimes. but i recently found this uplift energizing body cream from @theseaweedbathco available at @wholefoods and let me tell you it is amazing!\\n.\\nnot only does it have vitamin c to help replenish and protect your skin but it also has matcha, ginseng and coffee bean extract to energize and invigorate your skin. anything with coffee in it is a win in my book! not gonna lie, the grapefruit and orange scent is good too.\\n.\\nso i'll be pouring myself a second (and maybe third) cup of coffee today and using my new body cream to help me stay energized. what are some unique ways you've found that help you stay energized?\"]"
      ]
     },
     "execution_count": 5,
     "metadata": {},
     "output_type": "execute_result"
    }
   ],
   "source": [
    "\n",
    "data = instagram.post.tolist()\n",
    "data[:10]\n",
    "\n"
   ]
  },
  {
   "cell_type": "code",
   "execution_count": 6,
   "metadata": {},
   "outputs": [
    {
     "name": "stdout",
     "output_type": "stream",
     "text": [
      "[['the', 'best', 'offense', 'is', 'good', 'defense', 'so', 'here', 'some', 'healthy', 'tips', 'on', 'how', 'to', 'boast', 'your', 'immunity', 'as', 'work', 'through', 'this', 'covid', 'scare', 'don', 'be', 'scared', 'just', 'take', 'care']]\n"
     ]
    }
   ],
   "source": [
    "def sent_to_words(sentences):\n",
    "    for sentence in sentences:\n",
    "        yield(gensim.utils.simple_preprocess(str(sentence), deacc=True))  # deacc=True removes punctuations\n",
    "\n",
    "data_words = list(sent_to_words(data))\n",
    "\n",
    "print(data_words[:1])"
   ]
  },
  {
   "cell_type": "code",
   "execution_count": 7,
   "metadata": {},
   "outputs": [],
   "source": [
    "# Build the bigram and trigram models\n",
    "bigram = gensim.models.Phrases(data_words, min_count=5, threshold=100) # higher threshold fewer phrases.\n",
    "trigram = gensim.models.Phrases(bigram[data_words])\n",
    "\n",
    "# Faster way to get a sentence clubbed as a trigram/bigram\n",
    "bigram_mod = gensim.models.phrases.Phraser(bigram)\n",
    "trigram_mod = gensim.models.phrases.Phraser(trigram)"
   ]
  },
  {
   "cell_type": "code",
   "execution_count": 8,
   "metadata": {},
   "outputs": [],
   "source": [
    "# define stopwords\n",
    "\n",
    "from nltk.corpus import stopwords\n",
    "stop_words = stopwords.words('english')"
   ]
  },
  {
   "cell_type": "code",
   "execution_count": 9,
   "metadata": {},
   "outputs": [],
   "source": [
    "# Define functions for stopwords, bigrams, trigrams and lemmatization\n",
    "def remove_stopwords(texts):\n",
    "    return [[word for word in simple_preprocess(str(doc)) if word not in stop_words] for doc in texts]\n",
    "\n",
    "def make_bigrams(texts):\n",
    "    return [bigram_mod[doc] for doc in texts]\n",
    "\n",
    "def make_trigrams(texts):\n",
    "    return [trigram_mod[bigram_mod[doc]] for doc in texts]\n",
    "\n",
    "def lemmatization(texts, allowed_postags=['NOUN', 'ADJ', 'VERB', 'ADV']):\n",
    "    \"\"\"https://spacy.io/api/annotation\"\"\"\n",
    "    texts_out = []\n",
    "    for sent in texts:\n",
    "        doc = nlp(\" \".join(sent)) \n",
    "        texts_out.append([token.lemma_ for token in doc if token.pos_ in allowed_postags])\n",
    "    return texts_out"
   ]
  },
  {
   "cell_type": "code",
   "execution_count": 10,
   "metadata": {},
   "outputs": [
    {
     "name": "stdout",
     "output_type": "stream",
     "text": [
      "[['good', 'defense', 'healthy', 'tip', 'boast', 'immunity', 'work', 'scare', 'take', 'care']]\n"
     ]
    }
   ],
   "source": [
    "# Remove Stop Words\n",
    "data_words_nostops = remove_stopwords(data_words)\n",
    "\n",
    "# Form Bigrams\n",
    "data_words_bigrams = make_bigrams(data_words_nostops)\n",
    "\n",
    "# Initialize spacy 'en' model, keeping only tagger component (for efficiency)\n",
    "# python3 -m spacy download en\n",
    "nlp = spacy.load('en', disable=['parser', 'ner'])\n",
    "\n",
    "# Do lemmatization keeping only noun, adj, vb, adv\n",
    "data_lemmatized = lemmatization(data_words_bigrams, allowed_postags=['NOUN', 'ADJ', 'VERB', 'ADV'])\n",
    "\n",
    "print(data_lemmatized[:1])"
   ]
  },
  {
   "cell_type": "code",
   "execution_count": 11,
   "metadata": {},
   "outputs": [
    {
     "name": "stdout",
     "output_type": "stream",
     "text": [
      "[[(0, 1), (1, 1), (2, 1), (3, 1), (4, 1), (5, 1), (6, 1), (7, 1), (8, 1), (9, 1)]]\n"
     ]
    }
   ],
   "source": [
    "# Create Dictionary\n",
    "id2word = corpora.Dictionary(data_lemmatized)\n",
    "\n",
    "# Create Corpus\n",
    "texts = data_lemmatized\n",
    "\n",
    "# Term Document Frequency\n",
    "corpus = [id2word.doc2bow(text) for text in texts]\n",
    "\n",
    "# View\n",
    "print(corpus[:1])"
   ]
  },
  {
   "cell_type": "code",
   "execution_count": 12,
   "metadata": {},
   "outputs": [
    {
     "data": {
      "text/plain": [
       "[[('boast', 1),\n",
       "  ('care', 1),\n",
       "  ('defense', 1),\n",
       "  ('good', 1),\n",
       "  ('healthy', 1),\n",
       "  ('immunity', 1),\n",
       "  ('scare', 1),\n",
       "  ('take', 1),\n",
       "  ('tip', 1),\n",
       "  ('work', 1)]]"
      ]
     },
     "execution_count": 12,
     "metadata": {},
     "output_type": "execute_result"
    }
   ],
   "source": [
    "# term frequency\n",
    "[[(id2word[id], freq) for id, freq in cp] for cp in corpus[:1]]\n"
   ]
  },
  {
   "cell_type": "code",
   "execution_count": 13,
   "metadata": {},
   "outputs": [],
   "source": [
    "# Build LDA model\n",
    "lda_model = gensim.models.ldamodel.LdaModel(corpus=corpus,\n",
    "                                           id2word=id2word,\n",
    "                                           num_topics=20, \n",
    "                                           random_state=100,\n",
    "                                           update_every=1,\n",
    "                                           chunksize=100,\n",
    "                                           passes=10,\n",
    "                                           alpha='auto',\n",
    "                                           per_word_topics=True)"
   ]
  },
  {
   "cell_type": "code",
   "execution_count": null,
   "metadata": {},
   "outputs": [],
   "source": []
  },
  {
   "cell_type": "code",
   "execution_count": 14,
   "metadata": {
    "scrolled": true
   },
   "outputs": [
    {
     "data": {
      "text/plain": [
       "[(0,\n",
       "  '0.083*\"often\" + 0.056*\"call\" + 0.043*\"risk\" + 0.037*\"leave\" + 0.036*\"reduce\" + 0.036*\"family\" + 0.036*\"home\" + 0.031*\"grow\" + 0.031*\"safe\" + 0.029*\"drop\"'),\n",
       " (1,\n",
       "  '0.150*\"fat\" + 0.139*\"typically\" + 0.107*\"protein\" + 0.083*\"real\" + 0.048*\"deep\" + 0.044*\"cardio\" + 0.041*\"couple\" + 0.023*\"carbohydrate\" + 0.021*\"intense\" + 0.019*\"prefer\"'),\n",
       " (2,\n",
       "  '0.062*\"perform\" + 0.058*\"celebration\" + 0.042*\"period\" + 0.034*\"breakfast\" + 0.033*\"growth\" + 0.031*\"however\" + 0.029*\"remove\" + 0.027*\"content\" + 0.026*\"natural\" + 0.025*\"complete\"'),\n",
       " (3,\n",
       "  '0.206*\"lifestyle\" + 0.183*\"pain\" + 0.084*\"benefit\" + 0.065*\"able\" + 0.043*\"avoid\" + 0.033*\"continue\" + 0.026*\"die\" + 0.019*\"painful\" + 0.016*\"concern\" + 0.016*\"essential_oil\"'),\n",
       " (4,\n",
       "  '0.092*\"health\" + 0.079*\"also\" + 0.053*\"include\" + 0.051*\"high\" + 0.038*\"level\" + 0.033*\"important\" + 0.032*\"increase\" + 0.031*\"nutrition\" + 0.030*\"sleep\" + 0.029*\"next\"'),\n",
       " (5,\n",
       "  '0.134*\"low\" + 0.099*\"calorie\" + 0.091*\"balance\" + 0.060*\"study\" + 0.047*\"effect\" + 0.038*\"likely\" + 0.038*\"consistent\" + 0.031*\"decrease\" + 0.029*\"source\" + 0.029*\"regularly\"'),\n",
       " (6,\n",
       "  '0.232*\"symptom\" + 0.145*\"cause\" + 0.078*\"treatment\" + 0.072*\"contact\" + 0.057*\"read\" + 0.032*\"necessary\" + 0.025*\"require\" + 0.024*\"medical\" + 0.023*\"feed\" + 0.022*\"form\"'),\n",
       " (7,\n",
       "  '0.136*\"water\" + 0.095*\"drink\" + 0.059*\"story\" + 0.057*\"number\" + 0.053*\"believe\" + 0.053*\"perfect\" + 0.044*\"eye\" + 0.026*\"soon\" + 0.025*\"event\" + 0.023*\"shower\"'),\n",
       " (8,\n",
       "  '0.320*\"goal\" + 0.133*\"set\" + 0.087*\"reach\" + 0.053*\"achieve\" + 0.044*\"dream\" + 0.039*\"write\" + 0.036*\"constantly\" + 0.015*\"attention\" + 0.013*\"tough\" + 0.011*\"establish\"'),\n",
       " (9,\n",
       "  '0.194*\"add\" + 0.069*\"sugar\" + 0.067*\"veggie\" + 0.054*\"ingredient\" + 0.050*\"nutrient\" + 0.041*\"smoothie\" + 0.040*\"pack\" + 0.036*\"chocolate\" + 0.033*\"awesome\" + 0.030*\"lemon\"'),\n",
       " (10,\n",
       "  '0.137*\"fruit\" + 0.129*\"age\" + 0.054*\"pound\" + 0.049*\"old\" + 0.041*\"system\" + 0.035*\"late\" + 0.029*\"cleanse\" + 0.028*\"eliminate\" + 0.028*\"supply\" + 0.026*\"direct\"'),\n",
       " (11,\n",
       "  '0.279*\"healthy\" + 0.100*\"live\" + 0.076*\"challenge\" + 0.067*\"enjoy\" + 0.058*\"happy\" + 0.047*\"happen\" + 0.041*\"world\" + 0.040*\"thank\" + 0.029*\"self\" + 0.028*\"opportunity\"'),\n",
       " (12,\n",
       "  '0.097*\"top\" + 0.076*\"cook\" + 0.074*\"sign\" + 0.068*\"mix\" + 0.056*\"physical\" + 0.048*\"fit\" + 0.047*\"egg\" + 0.045*\"remain\" + 0.037*\"ball\" + 0.027*\"mental\"'),\n",
       " (13,\n",
       "  '0.092*\"change\" + 0.058*\"weight\" + 0.054*\"always\" + 0.043*\"question\" + 0.041*\"lose\" + 0.034*\"focus\" + 0.034*\"create\" + 0.034*\"program\" + 0.031*\"business\" + 0.030*\"ready\"'),\n",
       " (14,\n",
       "  '0.227*\"workout\" + 0.095*\"routine\" + 0.079*\"case\" + 0.067*\"actually\" + 0.054*\"snack\" + 0.052*\"chance\" + 0.038*\"finish\" + 0.035*\"huge\" + 0.033*\"cycle\" + 0.027*\"detox\"'),\n",
       " (15,\n",
       "  '0.118*\"com\" + 0.113*\"free\" + 0.102*\"link\" + 0.080*\"bio\" + 0.051*\"recipe\" + 0.041*\"save\" + 0.033*\"research\" + 0.032*\"push\" + 0.029*\"tag\" + 0.027*\"click\"'),\n",
       " (16,\n",
       "  '0.095*\"gym\" + 0.085*\"meal\" + 0.055*\"prepare\" + 0.046*\"slow\" + 0.041*\"dinner\" + 0.038*\"lunch\" + 0.035*\"arm\" + 0.030*\"pressure\" + 0.028*\"core\" + 0.026*\"death\"'),\n",
       " (17,\n",
       "  '0.219*\"minute\" + 0.067*\"completely\" + 0.057*\"juice\" + 0.050*\"job\" + 0.043*\"stretch\" + 0.034*\"clear\" + 0.028*\"pregnancy\" + 0.027*\"aspect\" + 0.026*\"salt\" + 0.025*\"word\"'),\n",
       " (18,\n",
       "  '0.029*\"make\" + 0.025*\"day\" + 0.024*\"get\" + 0.022*\"time\" + 0.019*\"want\" + 0.019*\"go\" + 0.019*\"know\" + 0.017*\"follow\" + 0.017*\"take\" + 0.015*\"help\"'),\n",
       " (19,\n",
       "  '0.313*\"product\" + 0.036*\"proud\" + 0.035*\"onion\" + 0.034*\"pure\" + 0.031*\"freedom\" + 0.031*\"seed\" + 0.028*\"anti\" + 0.024*\"label\" + 0.024*\"company\" + 0.019*\"variety\"')]"
      ]
     },
     "execution_count": 14,
     "metadata": {},
     "output_type": "execute_result"
    }
   ],
   "source": [
    "# Print the Keyword in the 10 topics\n",
    "lda_model.print_topics()\n"
   ]
  },
  {
   "cell_type": "markdown",
   "metadata": {},
   "source": [
    "Topics still too \"dispersed\". Will use other paremeters to find more \"solid\" topics"
   ]
  },
  {
   "cell_type": "markdown",
   "metadata": {},
   "source": [
    "## Fine tuning"
   ]
  },
  {
   "cell_type": "code",
   "execution_count": 15,
   "metadata": {},
   "outputs": [],
   "source": [
    "# Build LDA model\n",
    "lda_model2 = gensim.models.ldamodel.LdaModel(corpus=corpus,\n",
    "                                           id2word=id2word,\n",
    "                                           num_topics=5, \n",
    "                                           random_state=100,\n",
    "                                           update_every=1,\n",
    "                                           chunksize=100,\n",
    "                                           passes=10,\n",
    "                                           alpha='auto',\n",
    "                                           per_word_topics=True)"
   ]
  },
  {
   "cell_type": "code",
   "execution_count": 16,
   "metadata": {},
   "outputs": [
    {
     "data": {
      "text/plain": [
       "[(0,\n",
       "  '0.039*\"healthy\" + 0.031*\"eat\" + 0.025*\"food\" + 0.021*\"follow\" + 0.017*\"lifestyle\" + 0.012*\"product\" + 0.011*\"add\" + 0.010*\"enjoy\" + 0.010*\"water\" + 0.010*\"make\"'),\n",
       " (1,\n",
       "  '0.091*\"fibroid\" + 0.035*\"patient\" + 0.033*\"symptom\" + 0.021*\"surgery\" + 0.021*\"adenomyosis\" + 0.020*\"appointment\" + 0.020*\"follow\" + 0.017*\"cause\" + 0.014*\"often\" + 0.014*\"celebration\"'),\n",
       " (2,\n",
       "  '0.018*\"day\" + 0.018*\"get\" + 0.018*\"make\" + 0.016*\"time\" + 0.014*\"want\" + 0.014*\"go\" + 0.014*\"know\" + 0.012*\"take\" + 0.010*\"feel\" + 0.010*\"life\"'),\n",
       " (3,\n",
       "  '0.078*\"woman\" + 0.030*\"procedure\" + 0.027*\"ufe\" + 0.024*\"center\" + 0.020*\"workout\" + 0.013*\"set\" + 0.012*\"uterus\" + 0.011*\"age\" + 0.010*\"safe\" + 0.009*\"experience\"'),\n",
       " (4,\n",
       "  '0.018*\"also\" + 0.015*\"help\" + 0.011*\"include\" + 0.011*\"pain\" + 0.011*\"high\" + 0.010*\"use\" + 0.010*\"perform\" + 0.010*\"may\" + 0.009*\"risk\" + 0.008*\"body\"')]"
      ]
     },
     "execution_count": 16,
     "metadata": {},
     "output_type": "execute_result"
    }
   ],
   "source": [
    "lda_model2.print_topics()\n"
   ]
  },
  {
   "cell_type": "markdown",
   "metadata": {},
   "source": [
    "#### With 5 topics:\n",
    "- body\n",
    "- disease (fibroid)\n",
    "- diet advice / what to eat and what not\n",
    "- positive / action verbs e.g. make, go, etc\n",
    "- workout / program "
   ]
  },
  {
   "cell_type": "code",
   "execution_count": 17,
   "metadata": {},
   "outputs": [],
   "source": [
    "# tuning trying different passes, etc\n",
    "\n",
    "lda_model = gensim.models.ldamodel.LdaModel(corpus=corpus,\n",
    "                                           id2word=id2word,\n",
    "                                           num_topics=5, \n",
    "                                           random_state=100,\n",
    "                                           update_every=1,\n",
    "                                           chunksize=100,\n",
    "                                           passes=50,\n",
    "                                           alpha='auto',\n",
    "                                           per_word_topics=True)"
   ]
  },
  {
   "cell_type": "code",
   "execution_count": 18,
   "metadata": {},
   "outputs": [
    {
     "data": {
      "text/plain": [
       "[(0,\n",
       "  '0.038*\"healthy\" + 0.031*\"eat\" + 0.025*\"food\" + 0.021*\"follow\" + 0.017*\"lifestyle\" + 0.012*\"product\" + 0.011*\"add\" + 0.010*\"enjoy\" + 0.010*\"make\" + 0.010*\"water\"'),\n",
       " (1,\n",
       "  '0.085*\"fibroid\" + 0.033*\"patient\" + 0.031*\"symptom\" + 0.022*\"follow\" + 0.020*\"surgery\" + 0.020*\"adenomyosis\" + 0.019*\"appointment\" + 0.016*\"cause\" + 0.015*\"celebration\" + 0.014*\"women_leader\"'),\n",
       " (2,\n",
       "  '0.019*\"day\" + 0.018*\"get\" + 0.018*\"make\" + 0.016*\"time\" + 0.014*\"want\" + 0.014*\"go\" + 0.014*\"know\" + 0.012*\"take\" + 0.011*\"feel\" + 0.010*\"life\"'),\n",
       " (3,\n",
       "  '0.076*\"woman\" + 0.028*\"procedure\" + 0.025*\"ufe\" + 0.022*\"center\" + 0.020*\"workout\" + 0.013*\"set\" + 0.012*\"uterus\" + 0.011*\"age\" + 0.010*\"safe\" + 0.009*\"yoga\"'),\n",
       " (4,\n",
       "  '0.018*\"also\" + 0.015*\"help\" + 0.011*\"include\" + 0.011*\"high\" + 0.010*\"use\" + 0.010*\"pain\" + 0.010*\"perform\" + 0.010*\"may\" + 0.009*\"body\" + 0.009*\"risk\"')]"
      ]
     },
     "execution_count": 18,
     "metadata": {},
     "output_type": "execute_result"
    }
   ],
   "source": [
    "lda_model.print_topics()"
   ]
  },
  {
   "cell_type": "markdown",
   "metadata": {},
   "source": [
    "#### 5 topics\n",
    "- body, help with body issues? food and exercise\n",
    "- disease\n",
    "- recipes\n",
    "- action verbs\n",
    "- workout program"
   ]
  },
  {
   "cell_type": "code",
   "execution_count": 19,
   "metadata": {},
   "outputs": [],
   "source": [
    "# keeping nouns only\n",
    "\n",
    "from nltk import word_tokenize, pos_tag\n",
    "\n",
    "def nouns(text):\n",
    "    '''Given a string of text, tokenize the text and pull out only the nouns.'''\n",
    "    is_noun = lambda pos: pos[:2] == 'NN'\n",
    "    tokenized = word_tokenize(text)\n",
    "    all_nouns = [word for (word, pos) in pos_tag(tokenized) if is_noun(pos)] \n",
    "    return ' '.join(all_nouns)\n",
    "            "
   ]
  },
  {
   "cell_type": "code",
   "execution_count": 20,
   "metadata": {},
   "outputs": [
    {
     "data": {
      "text/plain": [
       "0        offense defense tips immunity work scare care\n",
       "1    nature imbalance health earth ecosystems healt...\n",
       "2    outbreak covid-19 coronavirus precautions safe...\n",
       "3    lunch today daughter😀 jacket potato tuna hea s...\n",
       "4    fear choice fear something something needs pow...\n",
       "5    c k lot antioxidants oxidation skin radicals a...\n",
       "6    gift time i m go @ revivesuperfoods time break...\n",
       "7    coronavirus please safety measures day everyon...\n",
       "8    mani-pedis 🥰 risks health infection contact de...\n",
       "9    y'all i morning person day mom struggle body c...\n",
       "Name: post, dtype: object"
      ]
     },
     "execution_count": 20,
     "metadata": {},
     "output_type": "execute_result"
    }
   ],
   "source": [
    "data_nouns = instagram[\"post\"].apply(str).apply(nouns)\n",
    "data_nouns[:10]"
   ]
  },
  {
   "cell_type": "code",
   "execution_count": 21,
   "metadata": {},
   "outputs": [
    {
     "name": "stdout",
     "output_type": "stream",
     "text": [
      "[['offense', 'defense', 'tip', 'immunity', 'work', 'care']]\n"
     ]
    }
   ],
   "source": [
    "# Remove Stop Words\n",
    "data_words_nostops = remove_stopwords(data_nouns)\n",
    "\n",
    "# Form Bigrams\n",
    "data_words_bigrams = make_bigrams(data_words_nostops)\n",
    "\n",
    "# Initialize spacy 'en' model, keeping only tagger component (for efficiency)\n",
    "# python3 -m spacy download en\n",
    "nlp = spacy.load('en', disable=['parser', 'ner'])\n",
    "\n",
    "# Do lemmatization keeping only noun, adj, vb, adv\n",
    "data_lemmatized = lemmatization(data_words_bigrams)\n",
    "\n",
    "print(data_lemmatized[:1])"
   ]
  },
  {
   "cell_type": "code",
   "execution_count": 22,
   "metadata": {},
   "outputs": [
    {
     "name": "stdout",
     "output_type": "stream",
     "text": [
      "[[(0, 1), (1, 1), (2, 1), (3, 1), (4, 1), (5, 1)]]\n"
     ]
    }
   ],
   "source": [
    "# Create Dictionary\n",
    "id2word = corpora.Dictionary(data_lemmatized)\n",
    "\n",
    "# Create Corpus\n",
    "texts = data_lemmatized\n",
    "\n",
    "# Term Document Frequency\n",
    "corpus = [id2word.doc2bow(text) for text in texts]\n",
    "\n",
    "# View\n",
    "print(corpus[:1])"
   ]
  },
  {
   "cell_type": "code",
   "execution_count": 23,
   "metadata": {},
   "outputs": [
    {
     "data": {
      "text/plain": [
       "[[('care', 1),\n",
       "  ('defense', 1),\n",
       "  ('immunity', 1),\n",
       "  ('offense', 1),\n",
       "  ('tip', 1),\n",
       "  ('work', 1)]]"
      ]
     },
     "execution_count": 23,
     "metadata": {},
     "output_type": "execute_result"
    }
   ],
   "source": [
    "[[(id2word[id], freq) for id, freq in cp] for cp in corpus[:1]]"
   ]
  },
  {
   "cell_type": "code",
   "execution_count": 40,
   "metadata": {},
   "outputs": [],
   "source": [
    "\n",
    "\n",
    "lda_model = gensim.models.ldamodel.LdaModel(corpus=corpus,\n",
    "                                           id2word=id2word,\n",
    "                                           num_topics=5, \n",
    "                                           random_state=100,\n",
    "                                           update_every=1,\n",
    "                                           chunksize=100,\n",
    "                                           passes=50,\n",
    "                                           alpha='auto',\n",
    "                                           per_word_topics=True)"
   ]
  },
  {
   "cell_type": "code",
   "execution_count": 25,
   "metadata": {
    "scrolled": true
   },
   "outputs": [
    {
     "data": {
      "text/plain": [
       "[(0,\n",
       "  '0.065*\"fibroid\" + 0.060*\"woman\" + 0.034*\"symptom\" + 0.032*\"procedure\" + 0.021*\"surgery\" + 0.021*\"appointment\" + 0.016*\"adenomyosis\" + 0.014*\"center\" + 0.013*\"workout\" + 0.012*\"fibroid_center\"'),\n",
       " (1,\n",
       "  '0.037*\"water\" + 0.028*\"option\" + 0.025*\"oil\" + 0.025*\"tip\" + 0.024*\"link\" + 0.017*\"bio\" + 0.016*\"heart\" + 0.015*\"meal\" + 0.014*\"drink\" + 0.014*\"recipe\"'),\n",
       " (2,\n",
       "  '0.037*\"body\" + 0.026*\"food\" + 0.024*\"patient\" + 0.018*\"health\" + 0.017*\"pain\" + 0.015*\"weight\" + 0.013*\"exercise\" + 0.012*\"loss\" + 0.011*\"morning\" + 0.011*\"risk\"'),\n",
       " (3,\n",
       "  '0.039*\"celebration\" + 0.037*\"world_hub\" + 0.037*\"women_leader\" + 0.037*\"twitter_com\" + 0.037*\"acelebrationofw\" + 0.029*\"period\" + 0.016*\"protein\" + 0.015*\"estrogen\" + 0.015*\"breakfast\" + 0.015*\"delivery\"'),\n",
       " (4,\n",
       "  '0.051*\"time\" + 0.046*\"day\" + 0.029*\"year\" + 0.028*\"life\" + 0.027*\"people\" + 0.025*\"today\" + 0.024*\"thing\" + 0.022*\"goal\" + 0.021*\"week\" + 0.016*\"friend\"')]"
      ]
     },
     "execution_count": 25,
     "metadata": {},
     "output_type": "execute_result"
    }
   ],
   "source": [
    "lda_model.print_topics()\n"
   ]
  },
  {
   "cell_type": "markdown",
   "metadata": {},
   "source": [
    "#### Topics if only accounting for nouns (above)\n",
    "- food, female topics (period, estrogen)\n",
    "- woman, leadership\n",
    "- recipe?\n",
    "- disease, medical procedures\n",
    "- symptom/pain\n"
   ]
  },
  {
   "cell_type": "code",
   "execution_count": 26,
   "metadata": {},
   "outputs": [],
   "source": [
    "# reducing chunksize\n",
    "\n",
    "lda_model = gensim.models.ldamodel.LdaModel(corpus=corpus,\n",
    "                                           id2word=id2word,\n",
    "                                           num_topics=5, \n",
    "                                           random_state=100,\n",
    "                                           update_every=1,\n",
    "                                           chunksize=50,\n",
    "                                           passes=50,\n",
    "                                           alpha='auto',\n",
    "                                           per_word_topics=True)"
   ]
  },
  {
   "cell_type": "code",
   "execution_count": 27,
   "metadata": {},
   "outputs": [
    {
     "data": {
      "text/plain": [
       "[(0,\n",
       "  '0.091*\"woman\" + 0.041*\"food\" + 0.036*\"thing\" + 0.032*\"week\" + 0.023*\"exercise\" + 0.023*\"water\" + 0.019*\"option\" + 0.017*\"question\" + 0.017*\"lot\" + 0.015*\"fruit\"'),\n",
       " (1,\n",
       "  '0.096*\"fibroid\" + 0.051*\"symptom\" + 0.049*\"procedure\" + 0.022*\"adenomyosis\" + 0.019*\"treatment\" + 0.017*\"tip\" + 0.017*\"fibroids\" + 0.017*\"fibroid_center\" + 0.016*\"oil\" + 0.013*\"condition\"'),\n",
       " (2,\n",
       "  '0.032*\"patient\" + 0.031*\"year\" + 0.023*\"surgery\" + 0.021*\"appointment\" + 0.019*\"pain\" + 0.016*\"minute\" + 0.015*\"work\" + 0.014*\"center\" + 0.014*\"loss\" + 0.013*\"risk\"'),\n",
       " (3,\n",
       "  '0.025*\"blood\" + 0.023*\"product\" + 0.015*\"routine\" + 0.015*\"recipe\" + 0.014*\"protein\" + 0.014*\"drink\" + 0.014*\"eye\" + 0.014*\"breakfast\" + 0.014*\"fat\" + 0.013*\"fiber\"'),\n",
       " (4,\n",
       "  '0.050*\"time\" + 0.042*\"day\" + 0.038*\"body\" + 0.027*\"people\" + 0.027*\"life\" + 0.023*\"today\" + 0.021*\"goal\" + 0.019*\"health\" + 0.018*\"way\" + 0.016*\"weight\"')]"
      ]
     },
     "execution_count": 27,
     "metadata": {},
     "output_type": "execute_result"
    }
   ],
   "source": [
    "lda_model.print_topics()\n"
   ]
  },
  {
   "cell_type": "markdown",
   "metadata": {},
   "source": [
    "### Topics when chunkside is reduced (above)\n",
    "- procedure, treatment\n",
    "- woman, life\n",
    "- fruit, plann\n",
    "- disease, symptom\n",
    "- day, food\n"
   ]
  },
  {
   "cell_type": "code",
   "execution_count": 28,
   "metadata": {},
   "outputs": [],
   "source": [
    "# chunkside back to 100, passes 50, 4 topics"
   ]
  },
  {
   "cell_type": "code",
   "execution_count": 29,
   "metadata": {},
   "outputs": [],
   "source": [
    "lda_model = gensim.models.ldamodel.LdaModel(corpus=corpus,\n",
    "                                           id2word=id2word,\n",
    "                                           num_topics=4, \n",
    "                                           random_state=100,\n",
    "                                           update_every=1,\n",
    "                                           chunksize=50,\n",
    "                                           passes=50,\n",
    "                                           alpha='auto',\n",
    "                                           per_word_topics=True)"
   ]
  },
  {
   "cell_type": "code",
   "execution_count": 30,
   "metadata": {},
   "outputs": [
    {
     "data": {
      "text/plain": [
       "[(0,\n",
       "  '0.050*\"food\" + 0.039*\"week\" + 0.029*\"exercise\" + 0.028*\"water\" + 0.021*\"celebration\" + 0.021*\"question\" + 0.020*\"link\" + 0.020*\"women_leader\" + 0.020*\"world_hub\" + 0.020*\"acelebrationofw\"'),\n",
       " (1,\n",
       "  '0.029*\"tip\" + 0.027*\"oil\" + 0.016*\"size\" + 0.016*\"picture\" + 0.016*\"recipe\" + 0.014*\"drop\" + 0.013*\"veggie\" + 0.012*\"minute\" + 0.011*\"value\" + 0.011*\"tea\"'),\n",
       " (2,\n",
       "  '0.033*\"time\" + 0.028*\"day\" + 0.021*\"body\" + 0.018*\"year\" + 0.018*\"people\" + 0.017*\"life\" + 0.015*\"thing\" + 0.015*\"today\" + 0.014*\"goal\" + 0.011*\"way\"'),\n",
       " (3,\n",
       "  '0.051*\"fibroid\" + 0.044*\"woman\" + 0.027*\"symptom\" + 0.026*\"procedure\" + 0.024*\"patient\" + 0.017*\"surgery\" + 0.016*\"appointment\" + 0.015*\"pain\" + 0.012*\"adenomyosis\" + 0.011*\"center\"')]"
      ]
     },
     "execution_count": 30,
     "metadata": {},
     "output_type": "execute_result"
    }
   ],
   "source": [
    "lda_model.print_topics()\n",
    "\n"
   ]
  },
  {
   "cell_type": "markdown",
   "metadata": {},
   "source": [
    "### with 4 topics\n",
    "- woman, food, weight, ageing\n",
    "- day, year, goal - probably resolutions\n",
    "- ?\n",
    "- disease, procedure"
   ]
  },
  {
   "cell_type": "code",
   "execution_count": 31,
   "metadata": {},
   "outputs": [],
   "source": [
    "# 3 topics\n",
    "lda_model3 = gensim.models.ldamodel.LdaModel(corpus=corpus,\n",
    "                                           id2word=id2word,\n",
    "                                           num_topics=3, \n",
    "                                           random_state=100,\n",
    "                                           update_every=1,\n",
    "                                           chunksize=50,\n",
    "                                           passes=50,\n",
    "                                           alpha='auto',\n",
    "                                           per_word_topics=True)"
   ]
  },
  {
   "cell_type": "code",
   "execution_count": 32,
   "metadata": {},
   "outputs": [
    {
     "data": {
      "text/plain": [
       "[(0,\n",
       "  '0.057*\"fibroid\" + 0.049*\"woman\" + 0.030*\"symptom\" + 0.029*\"procedure\" + 0.027*\"patient\" + 0.019*\"surgery\" + 0.018*\"appointment\" + 0.016*\"pain\" + 0.013*\"adenomyosis\" + 0.012*\"center\"'),\n",
       " (1,\n",
       "  '0.026*\"water\" + 0.017*\"fruit\" + 0.014*\"food\" + 0.014*\"calorie\" + 0.011*\"recipe\" + 0.010*\"oil\" + 0.010*\"meal\" + 0.010*\"protein\" + 0.010*\"drink\" + 0.010*\"breakfast\"'),\n",
       " (2,\n",
       "  '0.025*\"time\" + 0.021*\"day\" + 0.019*\"body\" + 0.014*\"year\" + 0.013*\"people\" + 0.013*\"life\" + 0.011*\"thing\" + 0.011*\"today\" + 0.011*\"goal\" + 0.010*\"week\"')]"
      ]
     },
     "execution_count": 32,
     "metadata": {},
     "output_type": "execute_result"
    }
   ],
   "source": [
    "lda_model3.print_topics()\n"
   ]
  },
  {
   "cell_type": "markdown",
   "metadata": {},
   "source": [
    "### 3 topics (above)\n",
    "\n",
    "- diet/food: water, recipe, protein\n",
    "- resolution: the healthy life, decisions, woman\n",
    "- diseases: fibroid, woman, procedure, treatment, pain, opinion\n",
    "\n"
   ]
  },
  {
   "cell_type": "markdown",
   "metadata": {},
   "source": [
    "### Model Perplexity and Coherence Score"
   ]
  },
  {
   "cell_type": "code",
   "execution_count": 33,
   "metadata": {},
   "outputs": [
    {
     "name": "stdout",
     "output_type": "stream",
     "text": [
      "\n",
      "Coherence Score:  0.55584367459011\n"
     ]
    }
   ],
   "source": [
    "from gensim.models import CoherenceModel\n",
    "\n",
    "# Compute Coherence Score\n",
    "coherence_model_lda = CoherenceModel(model=lda_model3, texts=data_lemmatized, dictionary=id2word, coherence='c_v')\n",
    "coherence_lda = coherence_model_lda.get_coherence()\n",
    "print('\\nCoherence Score: ', coherence_lda)"
   ]
  },
  {
   "cell_type": "code",
   "execution_count": 34,
   "metadata": {},
   "outputs": [],
   "source": [
    "# coherence score is anything between 0 and 1. 1 being good.\n"
   ]
  },
  {
   "cell_type": "markdown",
   "metadata": {},
   "source": [
    "### Visualisation"
   ]
  },
  {
   "cell_type": "code",
   "execution_count": 35,
   "metadata": {},
   "outputs": [],
   "source": [
    "# libraries\n",
    "import pyLDAvis\n",
    "import pyLDAvis.gensim \n",
    "import matplotlib.pyplot as plt\n",
    "%matplotlib inline"
   ]
  },
  {
   "cell_type": "code",
   "execution_count": 36,
   "metadata": {},
   "outputs": [
    {
     "name": "stderr",
     "output_type": "stream",
     "text": [
      "/Library/Frameworks/Python.framework/Versions/3.7/lib/python3.7/site-packages/pyLDAvis/_prepare.py:257: FutureWarning: Sorting because non-concatenation axis is not aligned. A future version\n",
      "of pandas will change to not sort by default.\n",
      "\n",
      "To accept the future behavior, pass 'sort=False'.\n",
      "\n",
      "To retain the current behavior and silence the warning, pass 'sort=True'.\n",
      "\n",
      "  return pd.concat([default_term_info] + list(topic_dfs))\n"
     ]
    },
    {
     "data": {
      "text/html": [
       "\n",
       "<link rel=\"stylesheet\" type=\"text/css\" href=\"https://cdn.rawgit.com/bmabey/pyLDAvis/files/ldavis.v1.0.0.css\">\n",
       "\n",
       "\n",
       "<div id=\"ldavis_el60353598386967799516521\"></div>\n",
       "<script type=\"text/javascript\">\n",
       "\n",
       "var ldavis_el60353598386967799516521_data = {\"mdsDat\": {\"x\": [-0.17696735593059085, -0.1393737532497876, 0.3163411091803785], \"y\": [0.2528297259366394, -0.27368658413097763, 0.020856858194338353], \"topics\": [1, 2, 3], \"cluster\": [1, 1, 1], \"Freq\": [66.66834259033203, 20.942718505859375, 12.388936042785645]}, \"tinfo\": {\"Category\": [\"Default\", \"Default\", \"Default\", \"Default\", \"Default\", \"Default\", \"Default\", \"Default\", \"Default\", \"Default\", \"Default\", \"Default\", \"Default\", \"Default\", \"Default\", \"Default\", \"Default\", \"Default\", \"Default\", \"Default\", \"Default\", \"Default\", \"Default\", \"Default\", \"Default\", \"Default\", \"Default\", \"Default\", \"Default\", \"Default\", \"Topic1\", \"Topic1\", \"Topic1\", \"Topic1\", \"Topic1\", \"Topic1\", \"Topic1\", \"Topic1\", \"Topic1\", \"Topic1\", \"Topic1\", \"Topic1\", \"Topic1\", \"Topic1\", \"Topic1\", \"Topic1\", \"Topic1\", \"Topic1\", \"Topic1\", \"Topic1\", \"Topic1\", \"Topic1\", \"Topic1\", \"Topic1\", \"Topic1\", \"Topic1\", \"Topic1\", \"Topic1\", \"Topic1\", \"Topic1\", \"Topic1\", \"Topic1\", \"Topic1\", \"Topic1\", \"Topic2\", \"Topic2\", \"Topic2\", \"Topic2\", \"Topic2\", \"Topic2\", \"Topic2\", \"Topic2\", \"Topic2\", \"Topic2\", \"Topic2\", \"Topic2\", \"Topic2\", \"Topic2\", \"Topic2\", \"Topic2\", \"Topic2\", \"Topic2\", \"Topic2\", \"Topic2\", \"Topic2\", \"Topic2\", \"Topic2\", \"Topic2\", \"Topic2\", \"Topic2\", \"Topic2\", \"Topic2\", \"Topic2\", \"Topic2\", \"Topic2\", \"Topic2\", \"Topic2\", \"Topic2\", \"Topic2\", \"Topic2\", \"Topic2\", \"Topic2\", \"Topic2\", \"Topic3\", \"Topic3\", \"Topic3\", \"Topic3\", \"Topic3\", \"Topic3\", \"Topic3\", \"Topic3\", \"Topic3\", \"Topic3\", \"Topic3\", \"Topic3\", \"Topic3\", \"Topic3\", \"Topic3\", \"Topic3\", \"Topic3\", \"Topic3\", \"Topic3\", \"Topic3\", \"Topic3\", \"Topic3\", \"Topic3\", \"Topic3\", \"Topic3\", \"Topic3\", \"Topic3\", \"Topic3\", \"Topic3\", \"Topic3\", \"Topic3\", \"Topic3\", \"Topic3\", \"Topic3\", \"Topic3\", \"Topic3\", \"Topic3\", \"Topic3\", \"Topic3\", \"Topic3\", \"Topic3\", \"Topic3\"], \"Freq\": [1000.0, 1168.0, 783.0, 532.0, 515.0, 477.0, 2330.0, 507.0, 1974.0, 341.0, 1785.0, 314.0, 402.0, 286.0, 1258.0, 1295.0, 1256.0, 1245.0, 315.0, 234.0, 305.0, 297.0, 295.0, 293.0, 293.0, 288.0, 214.0, 384.0, 1072.0, 202.0, 2329.687255859375, 1974.2066650390625, 1785.358642578125, 1256.381591796875, 1244.649169921875, 1071.961669921875, 999.1735229492188, 1294.8089599609375, 1057.1318359375, 927.6663818359375, 888.73583984375, 740.3423461914062, 823.5675048828125, 638.82958984375, 690.0095825195312, 689.3406982421875, 497.3688049316406, 520.1466064453125, 495.8736572265625, 515.1259765625, 492.8702392578125, 470.1772155761719, 513.5393676757812, 492.87213134765625, 410.21893310546875, 534.3212280273438, 387.35882568359375, 438.9298400878906, 463.4350891113281, 494.7903137207031, 567.8280029296875, 471.3177185058594, 442.26708984375, 844.9237670898438, 782.94580078125, 506.6573486328125, 315.4889831542969, 401.85784912109375, 297.3668212890625, 304.8524169921875, 292.7254943847656, 261.42059326171875, 288.01544189453125, 295.1516418457031, 292.411376953125, 192.3701934814453, 217.43304443359375, 204.7880096435547, 208.15350341796875, 198.06727600097656, 217.54080200195312, 163.95948791503906, 135.64788818359375, 143.73892211914062, 127.75062561035156, 146.04762268066406, 154.3208770751953, 133.64007568359375, 164.32647705078125, 175.77574157714844, 147.6208953857422, 145.9075469970703, 112.68574523925781, 115.70191955566406, 130.45347595214844, 233.07794189453125, 158.59437561035156, 158.59437561035156, 308.8519592285156, 413.8355712890625, 263.77252197265625, 211.3206787109375, 155.5162811279297, 999.7222290039062, 531.6969604492188, 476.3525390625, 514.1717529296875, 313.54522705078125, 233.9040069580078, 339.89886474609375, 202.12379455566406, 195.42495727539062, 213.16908264160156, 180.5472412109375, 185.95993041992188, 136.69891357421875, 131.74172973632812, 119.89820861816406, 126.21040344238281, 107.96259307861328, 97.73761749267578, 141.0009002685547, 284.02691650390625, 81.58180236816406, 87.75830078125, 63.21540451049805, 63.6407585144043, 62.8267707824707, 81.9433822631836, 65.12690734863281, 69.8243637084961, 56.34177017211914, 46.17148208618164, 168.45062255859375, 94.43785858154297, 170.99087524414062, 170.99087524414062, 170.98907470703125, 170.98907470703125, 76.23944854736328, 858.6380004882812, 145.8748779296875, 156.6024932861328, 112.64067840576172, 104.58346557617188], \"Term\": [\"fibroid\", \"woman\", \"water\", \"symptom\", \"procedure\", \"patient\", \"time\", \"fruit\", \"day\", \"surgery\", \"body\", \"appointment\", \"calorie\", \"pain\", \"food\", \"year\", \"people\", \"life\", \"recipe\", \"adenomyosis\", \"meal\", \"protein\", \"drink\", \"breakfast\", \"fat\", \"fiber\", \"center\", \"oil\", \"thing\", \"treatment\", \"time\", \"day\", \"body\", \"people\", \"life\", \"thing\", \"goal\", \"year\", \"today\", \"week\", \"health\", \"weight\", \"way\", \"work\", \"friend\", \"exercise\", \"workout\", \"share\", \"tip\", \"change\", \"question\", \"result\", \"morning\", \"lot\", \"group\", \"comment\", \"story\", \"family\", \"lifestyle\", \"month\", \"loss\", \"link\", \"energy\", \"food\", \"water\", \"fruit\", \"recipe\", \"calorie\", \"protein\", \"meal\", \"breakfast\", \"veggie\", \"fiber\", \"drink\", \"fat\", \"ingredient\", \"sugar\", \"vitamin\", \"vegetable\", \"coffee\", \"plant\", \"color\", \"flavor\", \"plate\", \"egg\", \"shake\", \"nutrient\", \"delivery\", \"chocolate\", \"juice\", \"snack\", \"blend\", \"bean\", \"pasta\", \"dinner\", \"r\", \"masih\", \"promo_lain\", \"oil\", \"food\", \"level\", \"minute\", \"tea\", \"fibroid\", \"symptom\", \"patient\", \"procedure\", \"appointment\", \"adenomyosis\", \"surgery\", \"treatment\", \"risk\", \"center\", \"fibroid_center\", \"fibroids\", \"ufe\", \"recovery\", \"uterus\", \"tumor\", \"bleed\", \"embolization\", \"condition\", \"pain\", \"menopause\", \"estrogen\", \"tissue\", \"fertility\", \"complication\", \"iron\", \"cancer\", \"study\", \"material\", \"cavity\", \"blood\", \"cause\", \"women_leader\", \"world_hub\", \"twitter_com\", \"acelebrationofw\", \"ablation\", \"woman\", \"celebration\", \"period\", \"doctor\", \"opinion\"], \"Total\": [1000.0, 1168.0, 783.0, 532.0, 515.0, 477.0, 2330.0, 507.0, 1974.0, 341.0, 1785.0, 314.0, 402.0, 286.0, 1258.0, 1295.0, 1256.0, 1245.0, 315.0, 234.0, 305.0, 297.0, 295.0, 293.0, 293.0, 288.0, 214.0, 384.0, 1072.0, 202.0, 2330.26025390625, 1974.7822265625, 1785.9754638671875, 1256.9130859375, 1245.182373046875, 1072.4815673828125, 999.7012939453125, 1295.5458984375, 1057.7398681640625, 928.204345703125, 889.3382568359375, 740.8704833984375, 824.172607421875, 639.335693359375, 690.570556640625, 689.9411010742188, 497.8616027832031, 520.7044067382812, 496.4307861328125, 515.710693359375, 493.4501953125, 470.73846435546875, 514.16796875, 493.4949035644531, 410.7386474609375, 535.00390625, 387.8551025390625, 439.4930725097656, 464.03082275390625, 495.4401550292969, 569.0127563476562, 472.16607666015625, 442.9657287597656, 1258.8828125, 783.65185546875, 507.124755859375, 315.9555358886719, 402.4605407714844, 297.8280334472656, 305.36505126953125, 293.2392578125, 261.888916015625, 288.5472717285156, 295.7635192871094, 293.0793762207031, 192.8186798095703, 217.95713806152344, 205.2832794189453, 208.6724853515625, 198.5815887451172, 218.14573669433594, 164.461669921875, 136.0852508544922, 144.21856689453125, 128.1835479736328, 146.55227661132812, 154.87342834472656, 134.11993408203125, 164.916748046875, 176.42730712890625, 148.16848754882812, 146.45970153808594, 113.11674499511719, 116.14774322509766, 131.01852416992188, 236.26551818847656, 162.8555908203125, 162.8555908203125, 384.5690002441406, 1258.8828125, 586.5970458984375, 648.490478515625, 206.61634826660156, 1000.4737548828125, 532.4336547851562, 477.1055908203125, 515.3341674804688, 314.3822326660156, 234.6333770751953, 341.0396728515625, 202.8550567626953, 196.19154357910156, 214.12655639648438, 181.37374877929688, 186.8145751953125, 137.41671752929688, 132.4816436767578, 120.64093780517578, 127.04607391357422, 108.72760009765625, 98.4723129272461, 142.31736755371094, 286.8061218261719, 82.38665008544922, 88.64030456542969, 63.951358795166016, 64.40852355957031, 63.585811614990234, 82.98588562011719, 65.99079132080078, 70.77771759033203, 57.13526153564453, 46.87457275390625, 171.70155334472656, 95.90199279785156, 175.01507568359375, 175.01507568359375, 175.01731872558594, 175.01731872558594, 77.63570404052734, 1168.806640625, 250.24490356445312, 289.3243103027344, 227.86094665527344, 222.9608154296875], \"loglift\": [30.0, 29.0, 28.0, 27.0, 26.0, 25.0, 24.0, 23.0, 22.0, 21.0, 20.0, 19.0, 18.0, 17.0, 16.0, 15.0, 14.0, 13.0, 12.0, 11.0, 10.0, 9.0, 8.0, 7.0, 6.0, 5.0, 4.0, 3.0, 2.0, 1.0, 0.4052000045776367, 0.4050999879837036, 0.4050999879837036, 0.4050000011920929, 0.4050000011920929, 0.4050000011920929, 0.4049000144004822, 0.4049000144004822, 0.4049000144004822, 0.4049000144004822, 0.4047999978065491, 0.40470001101493835, 0.40470001101493835, 0.40459999442100525, 0.40459999442100525, 0.40459999442100525, 0.4043999910354614, 0.4043999910354614, 0.4043000042438507, 0.4043000042438507, 0.4043000042438507, 0.4041999876499176, 0.4041999876499176, 0.4041999876499176, 0.4041999876499176, 0.4041999876499176, 0.4041999876499176, 0.4041999876499176, 0.4041999876499176, 0.4041000008583069, 0.4034000039100647, 0.4036000072956085, 0.40389999747276306, 0.0066999997943639755, 1.5625, 1.5625, 1.561900019645691, 1.561900019645691, 1.5618000030517578, 1.5616999864578247, 1.5615999698638916, 1.5615999698638916, 1.5614999532699585, 1.5613000392913818, 1.5611000061035156, 1.5611000061035156, 1.5609999895095825, 1.5609999895095825, 1.5608999729156494, 1.5607999563217163, 1.5606000423431396, 1.5602999925613403, 1.5601999759674072, 1.559999942779541, 1.559999942779541, 1.5599000453948975, 1.5598000288009644, 1.5598000288009644, 1.5598000288009644, 1.5597000122070312, 1.5597000122070312, 1.5595999956130981, 1.5595999956130981, 1.559499979019165, 1.5591000318527222, 1.5498000383377075, 1.5369000434875488, 1.5369000434875488, 1.344099998474121, 0.45089998841285706, 0.7641000151634216, 0.44209998846054077, 1.2792999744415283, 2.087599992752075, 2.0869998931884766, 2.0868000984191895, 2.0861001014709473, 2.085700035095215, 2.0852999687194824, 2.0850000381469727, 2.0848000049591064, 2.0845000743865967, 2.083899974822998, 2.0838000774383545, 2.0838000774383545, 2.0831000804901123, 2.0827999114990234, 2.082200050354004, 2.0817999839782715, 2.0813000202178955, 2.080899953842163, 2.0790998935699463, 2.0785999298095703, 2.0785000324249268, 2.078399896621704, 2.0768001079559326, 2.0764000415802, 2.0764000415802, 2.075700044631958, 2.075200080871582, 2.0748000144958496, 2.074399948120117, 2.0732998847961426, 2.0692999362945557, 2.072999954223633, 2.0650999546051025, 2.0650999546051025, 2.0650999546051025, 2.0650999546051025, 2.070199966430664, 1.7799999713897705, 1.548699975013733, 1.4744999408721924, 1.3838000297546387, 1.3314000368118286], \"logprob\": [30.0, 29.0, 28.0, 27.0, 26.0, 25.0, 24.0, 23.0, 22.0, 21.0, 20.0, 19.0, 18.0, 17.0, 16.0, 15.0, 14.0, 13.0, 12.0, 11.0, 10.0, 9.0, 8.0, 7.0, 6.0, 5.0, 4.0, 3.0, 2.0, 1.0, -3.7018001079559326, -3.8673999309539795, -3.967900037765503, -4.319300174713135, -4.328700065612793, -4.478099822998047, -4.548399925231934, -4.2891998291015625, -4.492000102996826, -4.622600078582764, -4.665500164031982, -4.848199844360352, -4.741700172424316, -4.995699882507324, -4.918600082397461, -4.919600009918213, -5.245999813079834, -5.201200008392334, -5.249000072479248, -5.210899829864502, -5.255099773406982, -5.302199840545654, -5.214000225067139, -5.255099773406982, -5.438600063323975, -5.174300193786621, -5.495999813079834, -5.370999813079834, -5.316699981689453, -5.251200199127197, -5.113500118255615, -5.299799919128418, -5.363399982452393, -4.716100215911865, -3.6342999935150146, -4.069499969482422, -4.543300151824951, -4.301300048828125, -4.602399826049805, -4.577600002288818, -4.618100166320801, -4.731200218200684, -4.634399890899658, -4.609899997711182, -4.619200229644775, -5.038000106811523, -4.915500164031982, -4.975399971008301, -4.959099769592285, -5.008800029754639, -4.914999961853027, -5.197800159454346, -5.38730001449585, -5.329400062561035, -5.447299957275391, -5.313399791717529, -5.258299827575684, -5.402200222015381, -5.195499897003174, -5.128200054168701, -5.302700042724609, -5.3144001960754395, -5.572800159454346, -5.54640007019043, -5.426400184631348, -4.8460001945495605, -5.230999946594238, -5.230999946594238, -4.564499855041504, -4.271900177001953, -4.722300052642822, -4.943999767303467, -5.2505998611450195, -2.8649001121520996, -3.496299982070923, -3.6061999797821045, -3.5297999382019043, -4.024400234222412, -4.317500114440918, -3.943700075149536, -4.463500022888184, -4.497200012207031, -4.410299777984619, -4.576399803161621, -4.546899795532227, -4.854599952697754, -4.891499996185303, -4.9857001304626465, -4.9344000816345215, -5.09060001373291, -5.190100193023682, -4.823599815368652, -4.123300075531006, -5.370800018310547, -5.297800064086914, -5.625800132751465, -5.619100093841553, -5.631999969482422, -5.366399765014648, -5.596099853515625, -5.526400089263916, -5.741000175476074, -5.940000057220459, -4.645699977874756, -5.224400043487549, -4.630799770355225, -4.630799770355225, -4.630799770355225, -4.630799770355225, -5.438499927520752, -3.0169999599456787, -4.789599895477295, -4.718699932098389, -5.0482001304626465, -5.122399806976318]}, \"token.table\": {\"Topic\": [1, 3, 1, 3, 3, 3, 2, 3, 2, 1, 3, 1, 2, 2, 3, 2, 3, 3, 1, 3, 1, 3, 1, 2, 2, 2, 1, 3, 1, 3, 1, 2, 2, 1, 3, 2, 2, 3, 1, 2, 2, 3, 1, 1, 1, 2, 3, 2, 3, 3, 3, 2, 1, 2, 1, 2, 1, 1, 1, 2, 2, 3, 1, 2, 1, 2, 3, 1, 1, 1, 2, 1, 3, 1, 1, 2, 3, 3, 2, 3, 1, 2, 3, 1, 1, 2, 2, 2, 3, 1, 3, 1, 3, 2, 3, 1, 1, 3, 2, 2, 1, 2, 3, 1, 2, 3, 2, 1, 1, 2, 3, 2, 3, 1, 3, 2, 1, 2, 1, 1, 3, 2, 1, 3, 3, 1, 2, 1, 1, 1, 3, 1, 3, 3, 1, 3, 3, 3, 2, 2, 2, 2, 1, 1, 1, 1, 3, 1, 3, 1, 1, 1, 3, 1], \"Freq\": [0.01288067176938057, 0.9789310097694397, 0.0228548813611269, 0.9770461916923523, 0.9973005652427673, 0.9987841844558716, 0.9989679455757141, 0.9933080673217773, 0.9968612194061279, 0.017472177743911743, 0.9784419536590576, 0.9994538426399231, 0.9991840720176697, 0.998855710029602, 0.984985888004303, 0.01042731199413538, 0.9801673293113708, 0.9813422560691833, 0.41559287905693054, 0.5834284424781799, 0.004670135211199522, 0.9947388172149658, 0.998621940612793, 0.9944411516189575, 0.9970712661743164, 0.9971928596496582, 0.9981235265731812, 0.9907870888710022, 0.007026549428701401, 0.9907434582710266, 0.9996038675308228, 0.9991057515144348, 0.9922261238098145, 0.5046937465667725, 0.495916485786438, 0.9974184632301331, 0.998568058013916, 0.9952036142349243, 0.9978198409080505, 0.002257511019706726, 0.01128154993057251, 0.9927763938903809, 0.9986359477043152, 0.9988780617713928, 0.0034120448399335146, 0.9963171482086182, 0.9936572909355164, 0.9981033802032471, 0.9995264410972595, 0.9979393482208252, 0.9956396818161011, 0.9993735551834106, 0.6712300777435303, 0.3288630247116089, 0.9991737604141235, 0.999754011631012, 0.9992985129356384, 0.9982016682624817, 0.9996196627616882, 0.9957541227340698, 0.01205024216324091, 0.9881198406219482, 0.005668056663125753, 0.9975780248641968, 0.5199480652809143, 0.4500533938407898, 0.030685460194945335, 0.9998535513877869, 0.9977785348892212, 0.9975303411483765, 0.0021178987808525562, 0.9982201457023621, 0.0017574297962710261, 0.998997151851654, 0.006140409503132105, 0.9763250946998596, 0.018421228975057602, 0.9801302552223206, 0.9988045692443848, 0.9953069090843201, 0.6276113986968994, 0.32537099719047546, 0.04626128077507019, 0.9991115927696228, 0.9996733069419861, 0.0019448897801339626, 0.9943603873252869, 0.8034968972206116, 0.1950235217809677, 0.5292409658432007, 0.47093477845191956, 0.006973351817578077, 0.9902159571647644, 0.9987279772758484, 0.9976826906204224, 0.9992735385894775, 0.45623543858528137, 0.542643666267395, 0.9993319511413574, 0.9984844923019409, 0.0019404884660616517, 0.0019404884660616517, 0.9974110722541809, 0.006140409503132105, 0.9763250946998596, 0.018421228975057602, 0.9972197413444519, 0.9990876317024231, 0.004232526291161776, 0.9861786365509033, 0.008465052582323551, 0.9969757199287415, 0.9963644742965698, 0.9984312653541565, 0.9939266443252563, 0.9962315559387207, 0.9986472129821777, 0.9988628625869751, 0.9977952837944031, 0.01412874087691307, 0.989011824131012, 0.9956085681915283, 0.0029322102200239897, 0.9969514608383179, 0.9991855025291443, 0.24683429300785065, 0.7550225257873535, 0.999550998210907, 0.9998883008956909, 0.9991322159767151, 0.9851236939430237, 0.9993005394935608, 0.9957848787307739, 0.9917662143707275, 0.0228548813611269, 0.9770461916923523, 0.9969674944877625, 0.9946871995925903, 0.9967772960662842, 0.9966057538986206, 0.9986200332641602, 0.9991681575775146, 0.9997905492782593, 0.9997798204421997, 0.9988250732421875, 0.2652277946472168, 0.7349376678466797, 0.02285517379641533, 0.9770587086677551, 0.9994749426841736, 0.9982693791389465, 0.02285517379641533, 0.9770587086677551, 0.9995786547660828], \"Term\": [\"ablation\", \"ablation\", \"acelebrationofw\", \"acelebrationofw\", \"adenomyosis\", \"appointment\", \"bean\", \"bleed\", \"blend\", \"blood\", \"blood\", \"body\", \"breakfast\", \"calorie\", \"cancer\", \"cause\", \"cause\", \"cavity\", \"celebration\", \"celebration\", \"center\", \"center\", \"change\", \"chocolate\", \"coffee\", \"color\", \"comment\", \"complication\", \"condition\", \"condition\", \"day\", \"delivery\", \"dinner\", \"doctor\", \"doctor\", \"drink\", \"egg\", \"embolization\", \"energy\", \"energy\", \"estrogen\", \"estrogen\", \"exercise\", \"family\", \"fat\", \"fat\", \"fertility\", \"fiber\", \"fibroid\", \"fibroid_center\", \"fibroids\", \"flavor\", \"food\", \"food\", \"friend\", \"fruit\", \"goal\", \"group\", \"health\", \"ingredient\", \"iron\", \"iron\", \"juice\", \"juice\", \"level\", \"level\", \"level\", \"life\", \"lifestyle\", \"link\", \"link\", \"loss\", \"loss\", \"lot\", \"masih\", \"masih\", \"masih\", \"material\", \"meal\", \"menopause\", \"minute\", \"minute\", \"minute\", \"month\", \"morning\", \"morning\", \"nutrient\", \"oil\", \"oil\", \"opinion\", \"opinion\", \"pain\", \"pain\", \"pasta\", \"patient\", \"people\", \"period\", \"period\", \"plant\", \"plate\", \"procedure\", \"procedure\", \"procedure\", \"promo_lain\", \"promo_lain\", \"promo_lain\", \"protein\", \"question\", \"r\", \"r\", \"r\", \"recipe\", \"recovery\", \"result\", \"risk\", \"shake\", \"share\", \"snack\", \"story\", \"study\", \"study\", \"sugar\", \"surgery\", \"surgery\", \"symptom\", \"tea\", \"tea\", \"thing\", \"time\", \"tip\", \"tissue\", \"today\", \"treatment\", \"tumor\", \"twitter_com\", \"twitter_com\", \"ufe\", \"uterus\", \"vegetable\", \"veggie\", \"vitamin\", \"water\", \"way\", \"week\", \"weight\", \"woman\", \"woman\", \"women_leader\", \"women_leader\", \"work\", \"workout\", \"world_hub\", \"world_hub\", \"year\"]}, \"R\": 30, \"lambda.step\": 0.01, \"plot.opts\": {\"xlab\": \"PC1\", \"ylab\": \"PC2\"}, \"topic.order\": [3, 2, 1]};\n",
       "\n",
       "function LDAvis_load_lib(url, callback){\n",
       "  var s = document.createElement('script');\n",
       "  s.src = url;\n",
       "  s.async = true;\n",
       "  s.onreadystatechange = s.onload = callback;\n",
       "  s.onerror = function(){console.warn(\"failed to load library \" + url);};\n",
       "  document.getElementsByTagName(\"head\")[0].appendChild(s);\n",
       "}\n",
       "\n",
       "if(typeof(LDAvis) !== \"undefined\"){\n",
       "   // already loaded: just create the visualization\n",
       "   !function(LDAvis){\n",
       "       new LDAvis(\"#\" + \"ldavis_el60353598386967799516521\", ldavis_el60353598386967799516521_data);\n",
       "   }(LDAvis);\n",
       "}else if(typeof define === \"function\" && define.amd){\n",
       "   // require.js is available: use it to load d3/LDAvis\n",
       "   require.config({paths: {d3: \"https://cdnjs.cloudflare.com/ajax/libs/d3/3.5.5/d3.min\"}});\n",
       "   require([\"d3\"], function(d3){\n",
       "      window.d3 = d3;\n",
       "      LDAvis_load_lib(\"https://cdn.rawgit.com/bmabey/pyLDAvis/files/ldavis.v1.0.0.js\", function(){\n",
       "        new LDAvis(\"#\" + \"ldavis_el60353598386967799516521\", ldavis_el60353598386967799516521_data);\n",
       "      });\n",
       "    });\n",
       "}else{\n",
       "    // require.js not available: dynamically load d3 & LDAvis\n",
       "    LDAvis_load_lib(\"https://cdnjs.cloudflare.com/ajax/libs/d3/3.5.5/d3.min.js\", function(){\n",
       "         LDAvis_load_lib(\"https://cdn.rawgit.com/bmabey/pyLDAvis/files/ldavis.v1.0.0.js\", function(){\n",
       "                 new LDAvis(\"#\" + \"ldavis_el60353598386967799516521\", ldavis_el60353598386967799516521_data);\n",
       "            })\n",
       "         });\n",
       "}\n",
       "</script>"
      ],
      "text/plain": [
       "PreparedData(topic_coordinates=              x         y  topics  cluster       Freq\n",
       "topic                                                \n",
       "2     -0.176967  0.252830       1        1  66.668343\n",
       "1     -0.139374 -0.273687       2        1  20.942719\n",
       "0      0.316341  0.020857       3        1  12.388936, topic_info=     Category         Freq         Term        Total  loglift  logprob\n",
       "5858  Default  1000.000000      fibroid  1000.000000  30.0000  30.0000\n",
       "725   Default  1168.000000        woman  1168.000000  29.0000  29.0000\n",
       "179   Default   783.000000        water   783.000000  28.0000  28.0000\n",
       "643   Default   532.000000      symptom   532.000000  27.0000  27.0000\n",
       "1263  Default   515.000000    procedure   515.000000  26.0000  26.0000\n",
       "...       ...          ...          ...          ...      ...      ...\n",
       "725    Topic3   858.638000        woman  1168.806641   1.7800  -3.0170\n",
       "534    Topic3   145.874878  celebration   250.244904   1.5487  -4.7896\n",
       "226    Topic3   156.602493       period   289.324310   1.4745  -4.7187\n",
       "1109   Topic3   112.640678       doctor   227.860947   1.3838  -5.0482\n",
       "1444   Topic3   104.583466      opinion   222.960815   1.3314  -5.1224\n",
       "\n",
       "[145 rows x 6 columns], token_table=       Topic      Freq             Term\n",
       "term                                   \n",
       "9249       1  0.012881         ablation\n",
       "9249       3  0.978931         ablation\n",
       "10422      1  0.022855  acelebrationofw\n",
       "10422      3  0.977046  acelebrationofw\n",
       "9250       3  0.997301      adenomyosis\n",
       "...      ...       ...              ...\n",
       "5          1  0.999475             work\n",
       "1307       1  0.998269          workout\n",
       "2505       1  0.022855        world_hub\n",
       "2505       3  0.977059        world_hub\n",
       "146        1  0.999579             year\n",
       "\n",
       "[154 rows x 3 columns], R=30, lambda_step=0.01, plot_opts={'xlab': 'PC1', 'ylab': 'PC2'}, topic_order=[3, 2, 1])"
      ]
     },
     "execution_count": 36,
     "metadata": {},
     "output_type": "execute_result"
    }
   ],
   "source": [
    "pyLDAvis.enable_notebook()\n",
    "vis = pyLDAvis.gensim.prepare(lda_model3, corpus, id2word)\n",
    "vis"
   ]
  },
  {
   "cell_type": "markdown",
   "metadata": {},
   "source": [
    "### Conclusion\n",
    "Afer experimenting with different parameters, 3 topics seems to give us a solid idea of the different existent topics founds in the instagram posts. \n",
    "This might need to be changed/ further \"tuned\" if more data becomes available.\n"
   ]
  },
  {
   "cell_type": "code",
   "execution_count": 37,
   "metadata": {
    "scrolled": false
   },
   "outputs": [
    {
     "data": {
      "text/plain": [
       "gensim.models.ldamodel.LdaModel"
      ]
     },
     "execution_count": 37,
     "metadata": {},
     "output_type": "execute_result"
    }
   ],
   "source": [
    "type(lda_model3)"
   ]
  },
  {
   "cell_type": "markdown",
   "metadata": {},
   "source": [
    "### Bulding LDA Mallet Model"
   ]
  },
  {
   "cell_type": "markdown",
   "metadata": {},
   "source": [
    "LDA Mallet Model often gives a better quality of topics"
   ]
  },
  {
   "cell_type": "code",
   "execution_count": 52,
   "metadata": {},
   "outputs": [],
   "source": [
    "def compute_coherence_values(dictionary, corpus, texts, limit, start=2, step=3):\n",
    "    \"\"\"\n",
    "    Compute c_v coherence for various number of topics\n",
    "\n",
    "    Parameters:\n",
    "    ----------\n",
    "    dictionary : Gensim dictionary\n",
    "    corpus : Gensim corpus\n",
    "    texts : List of input texts\n",
    "    limit : Max num of topics\n",
    "\n",
    "    Returns:\n",
    "    -------\n",
    "    model_list : List of LDA topic models\n",
    "    coherence_values : Coherence values corresponding to the LDA model with respective number of topics\n",
    "    \"\"\"\n",
    "    coherence_values = []\n",
    "    model_list = []\n",
    "    for num_topics in range(start, limit, step):\n",
    "        model = gensim.models.wrappers.LdaMallet(mallet_path, corpus=corpus, num_topics=num_topics, id2word=id2word)\n",
    "        model_list.append(model)\n",
    "        coherencemodel = CoherenceModel(model=model, texts=texts, dictionary=dictionary, coherence='c_v')\n",
    "        coherence_values.append(coherencemodel.get_coherence())\n",
    "\n",
    "    return model_list, coherence_values"
   ]
  },
  {
   "cell_type": "code",
   "execution_count": 53,
   "metadata": {},
   "outputs": [],
   "source": [
    "model_list, coherence_values = compute_coherence_values(dictionary=id2word, corpus=corpus, texts=data_lemmatized, start=2, limit=40, step=6)\n"
   ]
  },
  {
   "cell_type": "code",
   "execution_count": 54,
   "metadata": {
    "scrolled": true
   },
   "outputs": [
    {
     "data": {
      "image/png": "[encoded data removed]",
      "text/plain": [
       "<Figure size 432x288 with 1 Axes>"
      ]
     },
     "metadata": {
      "needs_background": "light"
     },
     "output_type": "display_data"
    }
   ],
   "source": [
    "limit=40; start=2; step=6;\n",
    "x = range(start, limit, step)\n",
    "plt.plot(x, coherence_values)\n",
    "plt.xlabel(\"Num Topics\")\n",
    "plt.ylabel(\"Coherence score\")\n",
    "plt.legend((\"coherence_values\"), loc='best')\n",
    "plt.show()"
   ]
  },
  {
   "cell_type": "markdown",
   "metadata": {},
   "source": [
    "### compute Mallet Model with 9 topics "
   ]
  },
  {
   "cell_type": "code",
   "execution_count": 74,
   "metadata": {},
   "outputs": [],
   "source": [
    "ldamallet_9 = gensim.models.wrappers.LdaMallet(mallet_path, corpus=corpus, num_topics=9, id2word=id2word)"
   ]
  },
  {
   "cell_type": "code",
   "execution_count": 75,
   "metadata": {
    "scrolled": false
   },
   "outputs": [
    {
     "name": "stdout",
     "output_type": "stream",
     "text": [
      "\n",
      "Coherence Score for 9 topics:  0.5361029124406793\n"
     ]
    }
   ],
   "source": [
    "coherence_model_ldamallet = CoherenceModel(model=ldamallet_9, texts=data_lemmatized, dictionary=id2word, coherence='c_v')\n",
    "coherence_ldamallet = coherence_model_ldamallet.get_coherence()\n",
    "print('\\nCoherence Score for 9 topics: ', coherence_ldamallet)"
   ]
  },
  {
   "cell_type": "markdown",
   "metadata": {},
   "source": [
    "### with 12 topics"
   ]
  },
  {
   "cell_type": "code",
   "execution_count": 78,
   "metadata": {},
   "outputs": [],
   "source": [
    "ldamallet_12 = gensim.models.wrappers.LdaMallet(mallet_path, corpus=corpus, num_topics=12, id2word=id2word)"
   ]
  },
  {
   "cell_type": "code",
   "execution_count": 79,
   "metadata": {},
   "outputs": [
    {
     "name": "stdout",
     "output_type": "stream",
     "text": [
      "\n",
      "Coherence Score:  0.5574245816475133\n"
     ]
    }
   ],
   "source": [
    "coherence_model_ldamallet = CoherenceModel(model=ldamallet_12, texts=data_lemmatized, dictionary=id2word, coherence='c_v')\n",
    "coherence_ldamallet = coherence_model_ldamallet.get_coherence()\n",
    "print('\\nCoherence Score: ', coherence_ldamallet)"
   ]
  },
  {
   "cell_type": "markdown",
   "metadata": {},
   "source": [
    "### 15 topics"
   ]
  },
  {
   "cell_type": "code",
   "execution_count": 81,
   "metadata": {},
   "outputs": [],
   "source": [
    "ldamallet_15 = gensim.models.wrappers.LdaMallet(mallet_path, corpus=corpus, num_topics=15, id2word=id2word)"
   ]
  },
  {
   "cell_type": "code",
   "execution_count": 82,
   "metadata": {},
   "outputs": [
    {
     "name": "stdout",
     "output_type": "stream",
     "text": [
      "\n",
      "Coherence Score:  0.607610864890802\n"
     ]
    }
   ],
   "source": [
    "coherence_model_ldamallet = CoherenceModel(model=ldamallet_15, texts=data_lemmatized, dictionary=id2word, coherence='c_v')\n",
    "coherence_ldamallet = coherence_model_ldamallet.get_coherence()\n",
    "print('\\nCoherence Score: ', coherence_ldamallet)"
   ]
  },
  {
   "cell_type": "markdown",
   "metadata": {},
   "source": [
    "### 20 topics"
   ]
  },
  {
   "cell_type": "code",
   "execution_count": 84,
   "metadata": {},
   "outputs": [],
   "source": [
    "ldamallet_20 = gensim.models.wrappers.LdaMallet(mallet_path, corpus=corpus, num_topics=20, id2word=id2word)"
   ]
  },
  {
   "cell_type": "code",
   "execution_count": 85,
   "metadata": {},
   "outputs": [
    {
     "name": "stdout",
     "output_type": "stream",
     "text": [
      "\n",
      "Coherence Score:  0.538871047937976\n"
     ]
    }
   ],
   "source": [
    "coherence_model_ldamallet = CoherenceModel(model=ldamallet_20, texts=data_lemmatized, dictionary=id2word, coherence='c_v')\n",
    "coherence_ldamallet = coherence_model_ldamallet.get_coherence()\n",
    "print('\\nCoherence Score: ', coherence_ldamallet)"
   ]
  },
  {
   "cell_type": "markdown",
   "metadata": {},
   "source": [
    "15 topics seems to be the best option here"
   ]
  },
  {
   "cell_type": "code",
   "execution_count": 94,
   "metadata": {},
   "outputs": [
    {
     "name": "stdout",
     "output_type": "stream",
     "text": [
      "[(0,\n",
      "  '0.075*\"friend\" + 0.059*\"share\" + 0.053*\"family\" + 0.035*\"post\" + '\n",
      "  '0.032*\"world\"'),\n",
      " (1,\n",
      "  '0.063*\"calorie\" + 0.058*\"water\" + 0.051*\"protein\" + 0.032*\"sugar\" + '\n",
      "  '0.030*\"fat\"'),\n",
      " (2,\n",
      "  '0.059*\"woman\" + 0.031*\"fibroid\" + 0.027*\"symptom\" + 0.027*\"pain\" + '\n",
      "  '0.022*\"risk\"'),\n",
      " (3,\n",
      "  '0.133*\"year\" + 0.058*\"month\" + 0.055*\"program\" + 0.054*\"live\" + '\n",
      "  '0.043*\"love\"'),\n",
      " (4,\n",
      "  '0.110*\"people\" + 0.068*\"life\" + 0.055*\"thing\" + 0.037*\"mind\" + '\n",
      "  '0.027*\"person\"'),\n",
      " (5,\n",
      "  '0.051*\"recipe\" + 0.036*\"ingredient\" + 0.032*\"minute\" + 0.022*\"lunch\" + '\n",
      "  '0.017*\"egg\"'),\n",
      " (6,\n",
      "  '0.080*\"goal\" + 0.079*\"weight\" + 0.058*\"change\" + 0.048*\"result\" + '\n",
      "  '0.045*\"challenge\"'),\n",
      " (7,\n",
      "  '0.188*\"day\" + 0.058*\"level\" + 0.043*\"stuff\" + 0.042*\"today\" + '\n",
      "  '0.040*\"website\"'),\n",
      " (8,\n",
      "  '0.158*\"time\" + 0.091*\"week\" + 0.087*\"day\" + 0.076*\"today\" + '\n",
      "  '0.058*\"morning\"'),\n",
      " (9,\n",
      "  '0.175*\"body\" + 0.036*\"health\" + 0.031*\"system\" + 0.030*\"benefit\" + '\n",
      "  '0.023*\"vitamin\"'),\n",
      " (10,\n",
      "  '0.052*\"exercise\" + 0.045*\"workout\" + 0.040*\"work\" + 0.029*\"coach\" + '\n",
      "  '0.024*\"group\"'),\n",
      " (11,\n",
      "  '0.091*\"thing\" + 0.084*\"time\" + 0.077*\"life\" + 0.072*\"health\" + '\n",
      "  '0.030*\"heart\"'),\n",
      " (12,\n",
      "  '0.082*\"link\" + 0.049*\"bio\" + 0.044*\"tip\" + 0.030*\"celebration\" + '\n",
      "  '0.028*\"credit\"'),\n",
      " (13,\n",
      "  '0.059*\"product\" + 0.047*\"skin\" + 0.045*\"oil\" + 0.039*\"night\" + '\n",
      "  '0.029*\"hand\"'),\n",
      " (14,\n",
      "  '0.187*\"food\" + 0.050*\"fruit\" + 0.046*\"meal\" + 0.036*\"eat\" + 0.028*\"diet\"')]\n"
     ]
    }
   ],
   "source": [
    "# Select the model and print the topics\n",
    "optimal_model = ldamallet_15\n",
    "model_topics = optimal_model.show_topics(formatted=False)\n",
    "pprint(optimal_model.print_topics(num_words=5))"
   ]
  },
  {
   "cell_type": "code",
   "execution_count": null,
   "metadata": {},
   "outputs": [],
   "source": [
    "# adding keywrods to dataframe "
   ]
  },
  {
   "cell_type": "code",
   "execution_count": 96,
   "metadata": {},
   "outputs": [
    {
     "data": {
      "text/html": [
       "<div>\n",
       "<style scoped>\n",
       "    .dataframe tbody tr th:only-of-type {\n",
       "        vertical-align: middle;\n",
       "    }\n",
       "\n",
       "    .dataframe tbody tr th {\n",
       "        vertical-align: top;\n",
       "    }\n",
       "\n",
       "    .dataframe thead th {\n",
       "        text-align: right;\n",
       "    }\n",
       "</style>\n",
       "<table border=\"1\" class=\"dataframe\">\n",
       "  <thead>\n",
       "    <tr style=\"text-align: right;\">\n",
       "      <th></th>\n",
       "      <th>Document_No</th>\n",
       "      <th>Dominant_Topic</th>\n",
       "      <th>Topic_Perc_Contrib</th>\n",
       "      <th>Keywords</th>\n",
       "      <th>Text</th>\n",
       "    </tr>\n",
       "  </thead>\n",
       "  <tbody>\n",
       "    <tr>\n",
       "      <th>0</th>\n",
       "      <td>0</td>\n",
       "      <td>12.0</td>\n",
       "      <td>0.1111</td>\n",
       "      <td>link, bio, tip, celebration, credit, women_lea...</td>\n",
       "      <td>the best offense is a good defense so here's s...</td>\n",
       "    </tr>\n",
       "    <tr>\n",
       "      <th>1</th>\n",
       "      <td>1</td>\n",
       "      <td>13.0</td>\n",
       "      <td>0.1073</td>\n",
       "      <td>product, skin, oil, night, hand, sleep, order,...</td>\n",
       "      <td>nature reflects back to us our own imbalance. ...</td>\n",
       "    </tr>\n",
       "    <tr>\n",
       "      <th>2</th>\n",
       "      <td>2</td>\n",
       "      <td>2.0</td>\n",
       "      <td>0.1004</td>\n",
       "      <td>woman, fibroid, symptom, pain, risk, patient, ...</td>\n",
       "      <td>concerning the current outbreak of covid-19 (c...</td>\n",
       "    </tr>\n",
       "    <tr>\n",
       "      <th>3</th>\n",
       "      <td>3</td>\n",
       "      <td>5.0</td>\n",
       "      <td>0.0988</td>\n",
       "      <td>recipe, ingredient, minute, lunch, egg, place,...</td>\n",
       "      <td>lunch out today with my daughter😀 jacket potat...</td>\n",
       "    </tr>\n",
       "    <tr>\n",
       "      <th>4</th>\n",
       "      <td>4</td>\n",
       "      <td>11.0</td>\n",
       "      <td>0.1111</td>\n",
       "      <td>thing, time, life, health, heart, lot, care, c...</td>\n",
       "      <td>whenever you are faced with fear, you always h...</td>\n",
       "    </tr>\n",
       "    <tr>\n",
       "      <th>5</th>\n",
       "      <td>5</td>\n",
       "      <td>13.0</td>\n",
       "      <td>0.1248</td>\n",
       "      <td>product, skin, oil, night, hand, sleep, order,...</td>\n",
       "      <td>who doesn't love cucumber? it’s high in vitami...</td>\n",
       "    </tr>\n",
       "    <tr>\n",
       "      <th>6</th>\n",
       "      <td>6</td>\n",
       "      <td>13.0</td>\n",
       "      <td>0.1063</td>\n",
       "      <td>product, skin, oil, night, hand, sleep, order,...</td>\n",
       "      <td>gift time! (swipe) i’m always on the go and @r...</td>\n",
       "    </tr>\n",
       "    <tr>\n",
       "      <th>7</th>\n",
       "      <td>7</td>\n",
       "      <td>0.0</td>\n",
       "      <td>0.1354</td>\n",
       "      <td>friend, share, family, post, world, comment, t...</td>\n",
       "      <td>scared of coronavirus? please don't worry take...</td>\n",
       "    </tr>\n",
       "    <tr>\n",
       "      <th>8</th>\n",
       "      <td>8</td>\n",
       "      <td>12.0</td>\n",
       "      <td>0.1057</td>\n",
       "      <td>link, bio, tip, celebration, credit, women_lea...</td>\n",
       "      <td>who doesn't love mani-pedis? 💅\\nnot only does ...</td>\n",
       "    </tr>\n",
       "    <tr>\n",
       "      <th>9</th>\n",
       "      <td>9</td>\n",
       "      <td>13.0</td>\n",
       "      <td>0.1209</td>\n",
       "      <td>product, skin, oil, night, hand, sleep, order,...</td>\n",
       "      <td>y'all know that i am not a morning person. giv...</td>\n",
       "    </tr>\n",
       "  </tbody>\n",
       "</table>\n",
       "</div>"
      ],
      "text/plain": [
       "   Document_No  Dominant_Topic  Topic_Perc_Contrib  \\\n",
       "0            0            12.0              0.1111   \n",
       "1            1            13.0              0.1073   \n",
       "2            2             2.0              0.1004   \n",
       "3            3             5.0              0.0988   \n",
       "4            4            11.0              0.1111   \n",
       "5            5            13.0              0.1248   \n",
       "6            6            13.0              0.1063   \n",
       "7            7             0.0              0.1354   \n",
       "8            8            12.0              0.1057   \n",
       "9            9            13.0              0.1209   \n",
       "\n",
       "                                            Keywords  \\\n",
       "0  link, bio, tip, celebration, credit, women_lea...   \n",
       "1  product, skin, oil, night, hand, sleep, order,...   \n",
       "2  woman, fibroid, symptom, pain, risk, patient, ...   \n",
       "3  recipe, ingredient, minute, lunch, egg, place,...   \n",
       "4  thing, time, life, health, heart, lot, care, c...   \n",
       "5  product, skin, oil, night, hand, sleep, order,...   \n",
       "6  product, skin, oil, night, hand, sleep, order,...   \n",
       "7  friend, share, family, post, world, comment, t...   \n",
       "8  link, bio, tip, celebration, credit, women_lea...   \n",
       "9  product, skin, oil, night, hand, sleep, order,...   \n",
       "\n",
       "                                                Text  \n",
       "0  the best offense is a good defense so here's s...  \n",
       "1  nature reflects back to us our own imbalance. ...  \n",
       "2  concerning the current outbreak of covid-19 (c...  \n",
       "3  lunch out today with my daughter😀 jacket potat...  \n",
       "4  whenever you are faced with fear, you always h...  \n",
       "5  who doesn't love cucumber? it’s high in vitami...  \n",
       "6  gift time! (swipe) i’m always on the go and @r...  \n",
       "7  scared of coronavirus? please don't worry take...  \n",
       "8  who doesn't love mani-pedis? 💅\\nnot only does ...  \n",
       "9  y'all know that i am not a morning person. giv...  "
      ]
     },
     "execution_count": 96,
     "metadata": {},
     "output_type": "execute_result"
    }
   ],
   "source": [
    "def format_topics_sentences(ldamodel=ldamallet_15, corpus=corpus, texts=data_nouns):\n",
    "    # Init output\n",
    "    sent_topics_df = pd.DataFrame()\n",
    "\n",
    "    # Get main topic in each document\n",
    "    for i, row in enumerate(ldamodel[corpus]):\n",
    "        row = sorted(row, key=lambda x: (x[1]), reverse=True)\n",
    "        # Get the Dominant topic, Perc Contribution and Keywords for each document\n",
    "        for j, (topic_num, prop_topic) in enumerate(row):\n",
    "            if j == 0:  # => dominant topic\n",
    "                wp = ldamodel.show_topic(topic_num)\n",
    "                topic_keywords = \", \".join([word for word, prop in wp])\n",
    "                sent_topics_df = sent_topics_df.append(pd.Series([int(topic_num), round(prop_topic,4), topic_keywords]), ignore_index=True)\n",
    "            else:\n",
    "                break\n",
    "    sent_topics_df.columns = ['Dominant_Topic', 'Perc_Contribution', 'Topic_Keywords']\n",
    "\n",
    "    # Add original text to the end of the output\n",
    "    contents = pd.Series(texts)\n",
    "    sent_topics_df = pd.concat([sent_topics_df, contents], axis=1)\n",
    "    return(sent_topics_df)\n",
    "\n",
    "\n",
    "df_topic_sents_keywords = format_topics_sentences(ldamodel=optimal_model, corpus=corpus, texts=data)\n",
    "\n",
    "# Format\n",
    "df_dominant_topic = df_topic_sents_keywords.reset_index()\n",
    "df_dominant_topic.columns = ['Document_No', 'Dominant_Topic', 'Topic_Perc_Contrib', 'Keywords', 'Text']\n",
    "\n",
    "# Show\n",
    "df_dominant_topic.head(10)"
   ]
  },
  {
   "cell_type": "code",
   "execution_count": null,
   "metadata": {},
   "outputs": [],
   "source": [
    "# add date to the above"
   ]
  },
  {
   "cell_type": "code",
   "execution_count": 97,
   "metadata": {},
   "outputs": [
    {
     "data": {
      "text/plain": [
       "(13032, 5)"
      ]
     },
     "execution_count": 97,
     "metadata": {},
     "output_type": "execute_result"
    }
   ],
   "source": [
    "df_dominant_topic.shape"
   ]
  },
  {
   "cell_type": "code",
   "execution_count": 98,
   "metadata": {},
   "outputs": [
    {
     "data": {
      "text/plain": [
       "(13032, 7)"
      ]
     },
     "execution_count": 98,
     "metadata": {},
     "output_type": "execute_result"
    }
   ],
   "source": [
    "instagram.shape"
   ]
  },
  {
   "cell_type": "code",
   "execution_count": 100,
   "metadata": {},
   "outputs": [],
   "source": [
    "df_dominant_topic['Date'] = instagram['timestamp'].values"
   ]
  },
  {
   "cell_type": "code",
   "execution_count": 102,
   "metadata": {},
   "outputs": [],
   "source": [
    "instagram_topics = df_dominant_topic"
   ]
  },
  {
   "cell_type": "code",
   "execution_count": 103,
   "metadata": {},
   "outputs": [
    {
     "data": {
      "text/html": [
       "<div>\n",
       "<style scoped>\n",
       "    .dataframe tbody tr th:only-of-type {\n",
       "        vertical-align: middle;\n",
       "    }\n",
       "\n",
       "    .dataframe tbody tr th {\n",
       "        vertical-align: top;\n",
       "    }\n",
       "\n",
       "    .dataframe thead th {\n",
       "        text-align: right;\n",
       "    }\n",
       "</style>\n",
       "<table border=\"1\" class=\"dataframe\">\n",
       "  <thead>\n",
       "    <tr style=\"text-align: right;\">\n",
       "      <th></th>\n",
       "      <th>Document_No</th>\n",
       "      <th>Dominant_Topic</th>\n",
       "      <th>Topic_Perc_Contrib</th>\n",
       "      <th>Keywords</th>\n",
       "      <th>Text</th>\n",
       "      <th>Date</th>\n",
       "    </tr>\n",
       "  </thead>\n",
       "  <tbody>\n",
       "    <tr>\n",
       "      <th>0</th>\n",
       "      <td>0</td>\n",
       "      <td>12.0</td>\n",
       "      <td>0.1111</td>\n",
       "      <td>link, bio, tip, celebration, credit, women_lea...</td>\n",
       "      <td>the best offense is a good defense so here's s...</td>\n",
       "      <td>2020-03-12T14:32:48.000Z</td>\n",
       "    </tr>\n",
       "    <tr>\n",
       "      <th>1</th>\n",
       "      <td>1</td>\n",
       "      <td>13.0</td>\n",
       "      <td>0.1073</td>\n",
       "      <td>product, skin, oil, night, hand, sleep, order,...</td>\n",
       "      <td>nature reflects back to us our own imbalance. ...</td>\n",
       "      <td>2020-03-12T14:22:34.000Z</td>\n",
       "    </tr>\n",
       "    <tr>\n",
       "      <th>2</th>\n",
       "      <td>2</td>\n",
       "      <td>2.0</td>\n",
       "      <td>0.1004</td>\n",
       "      <td>woman, fibroid, symptom, pain, risk, patient, ...</td>\n",
       "      <td>concerning the current outbreak of covid-19 (c...</td>\n",
       "      <td>2020-03-12T14:17:54.000Z</td>\n",
       "    </tr>\n",
       "    <tr>\n",
       "      <th>3</th>\n",
       "      <td>3</td>\n",
       "      <td>5.0</td>\n",
       "      <td>0.0988</td>\n",
       "      <td>recipe, ingredient, minute, lunch, egg, place,...</td>\n",
       "      <td>lunch out today with my daughter😀 jacket potat...</td>\n",
       "      <td>2020-03-12T14:17:02.000Z</td>\n",
       "    </tr>\n",
       "    <tr>\n",
       "      <th>4</th>\n",
       "      <td>4</td>\n",
       "      <td>11.0</td>\n",
       "      <td>0.1111</td>\n",
       "      <td>thing, time, life, health, heart, lot, care, c...</td>\n",
       "      <td>whenever you are faced with fear, you always h...</td>\n",
       "      <td>2020-03-12T14:01:39.000Z</td>\n",
       "    </tr>\n",
       "  </tbody>\n",
       "</table>\n",
       "</div>"
      ],
      "text/plain": [
       "   Document_No  Dominant_Topic  Topic_Perc_Contrib  \\\n",
       "0            0            12.0              0.1111   \n",
       "1            1            13.0              0.1073   \n",
       "2            2             2.0              0.1004   \n",
       "3            3             5.0              0.0988   \n",
       "4            4            11.0              0.1111   \n",
       "\n",
       "                                            Keywords  \\\n",
       "0  link, bio, tip, celebration, credit, women_lea...   \n",
       "1  product, skin, oil, night, hand, sleep, order,...   \n",
       "2  woman, fibroid, symptom, pain, risk, patient, ...   \n",
       "3  recipe, ingredient, minute, lunch, egg, place,...   \n",
       "4  thing, time, life, health, heart, lot, care, c...   \n",
       "\n",
       "                                                Text                      Date  \n",
       "0  the best offense is a good defense so here's s...  2020-03-12T14:32:48.000Z  \n",
       "1  nature reflects back to us our own imbalance. ...  2020-03-12T14:22:34.000Z  \n",
       "2  concerning the current outbreak of covid-19 (c...  2020-03-12T14:17:54.000Z  \n",
       "3  lunch out today with my daughter😀 jacket potat...  2020-03-12T14:17:02.000Z  \n",
       "4  whenever you are faced with fear, you always h...  2020-03-12T14:01:39.000Z  "
      ]
     },
     "execution_count": 103,
     "metadata": {},
     "output_type": "execute_result"
    }
   ],
   "source": [
    "instagram_topics.head()"
   ]
  },
  {
   "cell_type": "code",
   "execution_count": 106,
   "metadata": {},
   "outputs": [],
   "source": [
    "instagram_topics.to_csv(\"/Users/ana/ironhack_coding/projects/final_project/final-project/datasets/instagram_topics.csv\")"
   ]
  }
 ],
 "metadata": {
  "kernelspec": {
   "display_name": "Python 3",
   "language": "python",
   "name": "python3"
  },
  "language_info": {
   "codemirror_mode": {
    "name": "ipython",
    "version": 3
   },
   "file_extension": ".py",
   "mimetype": "text/x-python",
   "name": "python",
   "nbconvert_exporter": "python",
   "pygments_lexer": "ipython3",
   "version": "3.7.2"
  }
 },
 "nbformat": 4,
 "nbformat_minor": 2
}
